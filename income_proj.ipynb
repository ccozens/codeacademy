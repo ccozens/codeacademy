{
 "cells": [
  {
   "cell_type": "markdown",
   "id": "67782382-050b-4c67-90ec-62b00ab32714",
   "metadata": {},
   "source": [
    "## Predicting Income with Random Forests\n",
    "\n",
    "Codeacademy project to predict whether or not a person earns over $50,000, using [UCL ML Repository Census Income Dataset](https://archive.ics.uci.edu/ml/datasets/census%20income).\n",
    "\n",
    "Dataset description:  \n",
    "        e-mail: ronnyk@sgi.com for questions.  \n",
    "| Split into train-test using MLC++ GenCVFiles (2/3, 1/3 random).  \n",
    "| 48842 instances, mix of continuous and discrete    (train=32561, test=16281)  \n",
    "| 45222 if instances with unknown values are removed (train=30162, test=15060)  \n",
    "| Duplicate or conflicting instances : 6  \n",
    "| Class probabilities for adult.all file  \n",
    "| Probability for the label '>50K'  : 23.93% / 24.78% (without unknowns)  \n",
    "| Probability for the label '<=50K' : 76.07% / 75.22% (without unknowns)\n"
   ]
  },
  {
   "cell_type": "code",
   "execution_count": 4,
   "id": "e09ac844-ffac-4476-a574-05887038c307",
   "metadata": {
    "execution": {
     "iopub.execute_input": "2022-04-22T15:22:54.969716Z",
     "iopub.status.busy": "2022-04-22T15:22:54.969440Z",
     "iopub.status.idle": "2022-04-22T15:22:54.974383Z",
     "shell.execute_reply": "2022-04-22T15:22:54.973554Z",
     "shell.execute_reply.started": "2022-04-22T15:22:54.969689Z"
    },
    "tags": []
   },
   "outputs": [],
   "source": [
    "def warn(*args, **kwargs):\n",
    "    pass\n",
    "import warnings\n",
    "warnings.warn = warn\n",
    "\n",
    "import pandas as pd\n",
    "import numpy as np\n",
    "from matplotlib import pyplot as plt\n",
    "from sklearn.model_selection import train_test_split\n",
    "from sklearn import tree\n",
    "from sklearn.ensemble import RandomForestClassifier"
   ]
  },
  {
   "cell_type": "markdown",
   "id": "7fa9e37d-3734-442b-b22c-ff0b97d9c514",
   "metadata": {},
   "source": [
    "### Get data"
   ]
  },
  {
   "cell_type": "code",
   "execution_count": 5,
   "id": "c48f0a48-0a15-4781-b4c7-5bffed37a866",
   "metadata": {
    "execution": {
     "iopub.execute_input": "2022-04-22T15:22:57.400202Z",
     "iopub.status.busy": "2022-04-22T15:22:57.399709Z",
     "iopub.status.idle": "2022-04-22T15:23:02.526114Z",
     "shell.execute_reply": "2022-04-22T15:23:02.525324Z",
     "shell.execute_reply.started": "2022-04-22T15:22:57.400175Z"
    },
    "tags": []
   },
   "outputs": [
    {
     "name": "stdout",
     "output_type": "stream",
     "text": [
      "adult_data: (32561, 15) \n",
      "adult_test: (16281, 15)\n"
     ]
    }
   ],
   "source": [
    "# establish data source\n",
    "\n",
    "adult_data_url = 'https://archive.ics.uci.edu/ml/machine-learning-databases/adult/adult.data'\n",
    "adult_test_url = 'https://archive.ics.uci.edu/ml/machine-learning-databases/adult/adult.test'\n",
    "\n",
    "# set columns names\n",
    "columnnames = ['age', 'workclass', 'fnlwgt', 'education', 'education-num', 'marital-status', 'occupation', 'relationship', 'race', 'sex', 'capital-gain', 'capital-loss', 'hours-per-week', 'native-country', 'income']\n",
    "\n",
    "# create dataframes\n",
    "\n",
    "adult_data = pd.read_csv(adult_data_url, names=columnnames, delimiter=\", \")\n",
    "adult_test = pd.read_csv(adult_test_url, names=columnnames, delimiter=\", \", skiprows=1)\n",
    "\n",
    "# print sizes\n",
    "print('adult_data: {} \\n\\\n",
    "adult_test: {}'\n",
    "      .format(adult_data.shape, adult_test.shape))\n",
    "    "
   ]
  },
  {
   "cell_type": "markdown",
   "id": "10df0088-6dd1-4b37-9648-9ad6fe27b889",
   "metadata": {},
   "source": [
    "### Browse data"
   ]
  },
  {
   "cell_type": "code",
   "execution_count": 6,
   "id": "884f0de2-c3ec-4878-9810-cdae83a8576e",
   "metadata": {
    "execution": {
     "iopub.execute_input": "2022-04-22T15:23:02.528626Z",
     "iopub.status.busy": "2022-04-22T15:23:02.528133Z",
     "iopub.status.idle": "2022-04-22T15:23:02.551851Z",
     "shell.execute_reply": "2022-04-22T15:23:02.550953Z",
     "shell.execute_reply.started": "2022-04-22T15:23:02.528582Z"
    },
    "tags": []
   },
   "outputs": [
    {
     "data": {
      "text/html": [
       "<div>\n",
       "<style scoped>\n",
       "    .dataframe tbody tr th:only-of-type {\n",
       "        vertical-align: middle;\n",
       "    }\n",
       "\n",
       "    .dataframe tbody tr th {\n",
       "        vertical-align: top;\n",
       "    }\n",
       "\n",
       "    .dataframe thead th {\n",
       "        text-align: right;\n",
       "    }\n",
       "</style>\n",
       "<table border=\"1\" class=\"dataframe\">\n",
       "  <thead>\n",
       "    <tr style=\"text-align: right;\">\n",
       "      <th></th>\n",
       "      <th>age</th>\n",
       "      <th>workclass</th>\n",
       "      <th>fnlwgt</th>\n",
       "      <th>education</th>\n",
       "      <th>education-num</th>\n",
       "      <th>marital-status</th>\n",
       "      <th>occupation</th>\n",
       "      <th>relationship</th>\n",
       "      <th>race</th>\n",
       "      <th>sex</th>\n",
       "      <th>capital-gain</th>\n",
       "      <th>capital-loss</th>\n",
       "      <th>hours-per-week</th>\n",
       "      <th>native-country</th>\n",
       "      <th>income</th>\n",
       "    </tr>\n",
       "  </thead>\n",
       "  <tbody>\n",
       "    <tr>\n",
       "      <th>0</th>\n",
       "      <td>39</td>\n",
       "      <td>State-gov</td>\n",
       "      <td>77516</td>\n",
       "      <td>Bachelors</td>\n",
       "      <td>13</td>\n",
       "      <td>Never-married</td>\n",
       "      <td>Adm-clerical</td>\n",
       "      <td>Not-in-family</td>\n",
       "      <td>White</td>\n",
       "      <td>Male</td>\n",
       "      <td>2174</td>\n",
       "      <td>0</td>\n",
       "      <td>40</td>\n",
       "      <td>United-States</td>\n",
       "      <td>&lt;=50K</td>\n",
       "    </tr>\n",
       "    <tr>\n",
       "      <th>1</th>\n",
       "      <td>50</td>\n",
       "      <td>Self-emp-not-inc</td>\n",
       "      <td>83311</td>\n",
       "      <td>Bachelors</td>\n",
       "      <td>13</td>\n",
       "      <td>Married-civ-spouse</td>\n",
       "      <td>Exec-managerial</td>\n",
       "      <td>Husband</td>\n",
       "      <td>White</td>\n",
       "      <td>Male</td>\n",
       "      <td>0</td>\n",
       "      <td>0</td>\n",
       "      <td>13</td>\n",
       "      <td>United-States</td>\n",
       "      <td>&lt;=50K</td>\n",
       "    </tr>\n",
       "    <tr>\n",
       "      <th>2</th>\n",
       "      <td>38</td>\n",
       "      <td>Private</td>\n",
       "      <td>215646</td>\n",
       "      <td>HS-grad</td>\n",
       "      <td>9</td>\n",
       "      <td>Divorced</td>\n",
       "      <td>Handlers-cleaners</td>\n",
       "      <td>Not-in-family</td>\n",
       "      <td>White</td>\n",
       "      <td>Male</td>\n",
       "      <td>0</td>\n",
       "      <td>0</td>\n",
       "      <td>40</td>\n",
       "      <td>United-States</td>\n",
       "      <td>&lt;=50K</td>\n",
       "    </tr>\n",
       "    <tr>\n",
       "      <th>3</th>\n",
       "      <td>53</td>\n",
       "      <td>Private</td>\n",
       "      <td>234721</td>\n",
       "      <td>11th</td>\n",
       "      <td>7</td>\n",
       "      <td>Married-civ-spouse</td>\n",
       "      <td>Handlers-cleaners</td>\n",
       "      <td>Husband</td>\n",
       "      <td>Black</td>\n",
       "      <td>Male</td>\n",
       "      <td>0</td>\n",
       "      <td>0</td>\n",
       "      <td>40</td>\n",
       "      <td>United-States</td>\n",
       "      <td>&lt;=50K</td>\n",
       "    </tr>\n",
       "    <tr>\n",
       "      <th>4</th>\n",
       "      <td>28</td>\n",
       "      <td>Private</td>\n",
       "      <td>338409</td>\n",
       "      <td>Bachelors</td>\n",
       "      <td>13</td>\n",
       "      <td>Married-civ-spouse</td>\n",
       "      <td>Prof-specialty</td>\n",
       "      <td>Wife</td>\n",
       "      <td>Black</td>\n",
       "      <td>Female</td>\n",
       "      <td>0</td>\n",
       "      <td>0</td>\n",
       "      <td>40</td>\n",
       "      <td>Cuba</td>\n",
       "      <td>&lt;=50K</td>\n",
       "    </tr>\n",
       "  </tbody>\n",
       "</table>\n",
       "</div>"
      ],
      "text/plain": [
       "   age         workclass  fnlwgt  education  education-num  \\\n",
       "0   39         State-gov   77516  Bachelors             13   \n",
       "1   50  Self-emp-not-inc   83311  Bachelors             13   \n",
       "2   38           Private  215646    HS-grad              9   \n",
       "3   53           Private  234721       11th              7   \n",
       "4   28           Private  338409  Bachelors             13   \n",
       "\n",
       "       marital-status         occupation   relationship   race     sex  \\\n",
       "0       Never-married       Adm-clerical  Not-in-family  White    Male   \n",
       "1  Married-civ-spouse    Exec-managerial        Husband  White    Male   \n",
       "2            Divorced  Handlers-cleaners  Not-in-family  White    Male   \n",
       "3  Married-civ-spouse  Handlers-cleaners        Husband  Black    Male   \n",
       "4  Married-civ-spouse     Prof-specialty           Wife  Black  Female   \n",
       "\n",
       "   capital-gain  capital-loss  hours-per-week native-country income  \n",
       "0          2174             0              40  United-States  <=50K  \n",
       "1             0             0              13  United-States  <=50K  \n",
       "2             0             0              40  United-States  <=50K  \n",
       "3             0             0              40  United-States  <=50K  \n",
       "4             0             0              40           Cuba  <=50K  "
      ]
     },
     "execution_count": 6,
     "metadata": {},
     "output_type": "execute_result"
    }
   ],
   "source": [
    "adult_data.head()"
   ]
  },
  {
   "cell_type": "code",
   "execution_count": 7,
   "id": "b478dd74-6835-4656-81f0-649ab3245213",
   "metadata": {
    "execution": {
     "iopub.execute_input": "2022-04-22T15:23:02.553728Z",
     "iopub.status.busy": "2022-04-22T15:23:02.553422Z",
     "iopub.status.idle": "2022-04-22T15:23:02.571354Z",
     "shell.execute_reply": "2022-04-22T15:23:02.570351Z",
     "shell.execute_reply.started": "2022-04-22T15:23:02.553700Z"
    },
    "tags": []
   },
   "outputs": [
    {
     "data": {
      "text/html": [
       "<div>\n",
       "<style scoped>\n",
       "    .dataframe tbody tr th:only-of-type {\n",
       "        vertical-align: middle;\n",
       "    }\n",
       "\n",
       "    .dataframe tbody tr th {\n",
       "        vertical-align: top;\n",
       "    }\n",
       "\n",
       "    .dataframe thead th {\n",
       "        text-align: right;\n",
       "    }\n",
       "</style>\n",
       "<table border=\"1\" class=\"dataframe\">\n",
       "  <thead>\n",
       "    <tr style=\"text-align: right;\">\n",
       "      <th></th>\n",
       "      <th>age</th>\n",
       "      <th>workclass</th>\n",
       "      <th>fnlwgt</th>\n",
       "      <th>education</th>\n",
       "      <th>education-num</th>\n",
       "      <th>marital-status</th>\n",
       "      <th>occupation</th>\n",
       "      <th>relationship</th>\n",
       "      <th>race</th>\n",
       "      <th>sex</th>\n",
       "      <th>capital-gain</th>\n",
       "      <th>capital-loss</th>\n",
       "      <th>hours-per-week</th>\n",
       "      <th>native-country</th>\n",
       "      <th>income</th>\n",
       "    </tr>\n",
       "  </thead>\n",
       "  <tbody>\n",
       "    <tr>\n",
       "      <th>0</th>\n",
       "      <td>25</td>\n",
       "      <td>Private</td>\n",
       "      <td>226802</td>\n",
       "      <td>11th</td>\n",
       "      <td>7</td>\n",
       "      <td>Never-married</td>\n",
       "      <td>Machine-op-inspct</td>\n",
       "      <td>Own-child</td>\n",
       "      <td>Black</td>\n",
       "      <td>Male</td>\n",
       "      <td>0</td>\n",
       "      <td>0</td>\n",
       "      <td>40</td>\n",
       "      <td>United-States</td>\n",
       "      <td>&lt;=50K.</td>\n",
       "    </tr>\n",
       "    <tr>\n",
       "      <th>1</th>\n",
       "      <td>38</td>\n",
       "      <td>Private</td>\n",
       "      <td>89814</td>\n",
       "      <td>HS-grad</td>\n",
       "      <td>9</td>\n",
       "      <td>Married-civ-spouse</td>\n",
       "      <td>Farming-fishing</td>\n",
       "      <td>Husband</td>\n",
       "      <td>White</td>\n",
       "      <td>Male</td>\n",
       "      <td>0</td>\n",
       "      <td>0</td>\n",
       "      <td>50</td>\n",
       "      <td>United-States</td>\n",
       "      <td>&lt;=50K.</td>\n",
       "    </tr>\n",
       "    <tr>\n",
       "      <th>2</th>\n",
       "      <td>28</td>\n",
       "      <td>Local-gov</td>\n",
       "      <td>336951</td>\n",
       "      <td>Assoc-acdm</td>\n",
       "      <td>12</td>\n",
       "      <td>Married-civ-spouse</td>\n",
       "      <td>Protective-serv</td>\n",
       "      <td>Husband</td>\n",
       "      <td>White</td>\n",
       "      <td>Male</td>\n",
       "      <td>0</td>\n",
       "      <td>0</td>\n",
       "      <td>40</td>\n",
       "      <td>United-States</td>\n",
       "      <td>&gt;50K.</td>\n",
       "    </tr>\n",
       "    <tr>\n",
       "      <th>3</th>\n",
       "      <td>44</td>\n",
       "      <td>Private</td>\n",
       "      <td>160323</td>\n",
       "      <td>Some-college</td>\n",
       "      <td>10</td>\n",
       "      <td>Married-civ-spouse</td>\n",
       "      <td>Machine-op-inspct</td>\n",
       "      <td>Husband</td>\n",
       "      <td>Black</td>\n",
       "      <td>Male</td>\n",
       "      <td>7688</td>\n",
       "      <td>0</td>\n",
       "      <td>40</td>\n",
       "      <td>United-States</td>\n",
       "      <td>&gt;50K.</td>\n",
       "    </tr>\n",
       "    <tr>\n",
       "      <th>4</th>\n",
       "      <td>18</td>\n",
       "      <td>?</td>\n",
       "      <td>103497</td>\n",
       "      <td>Some-college</td>\n",
       "      <td>10</td>\n",
       "      <td>Never-married</td>\n",
       "      <td>?</td>\n",
       "      <td>Own-child</td>\n",
       "      <td>White</td>\n",
       "      <td>Female</td>\n",
       "      <td>0</td>\n",
       "      <td>0</td>\n",
       "      <td>30</td>\n",
       "      <td>United-States</td>\n",
       "      <td>&lt;=50K.</td>\n",
       "    </tr>\n",
       "  </tbody>\n",
       "</table>\n",
       "</div>"
      ],
      "text/plain": [
       "   age  workclass  fnlwgt     education  education-num      marital-status  \\\n",
       "0   25    Private  226802          11th              7       Never-married   \n",
       "1   38    Private   89814       HS-grad              9  Married-civ-spouse   \n",
       "2   28  Local-gov  336951    Assoc-acdm             12  Married-civ-spouse   \n",
       "3   44    Private  160323  Some-college             10  Married-civ-spouse   \n",
       "4   18          ?  103497  Some-college             10       Never-married   \n",
       "\n",
       "          occupation relationship   race     sex  capital-gain  capital-loss  \\\n",
       "0  Machine-op-inspct    Own-child  Black    Male             0             0   \n",
       "1    Farming-fishing      Husband  White    Male             0             0   \n",
       "2    Protective-serv      Husband  White    Male             0             0   \n",
       "3  Machine-op-inspct      Husband  Black    Male          7688             0   \n",
       "4                  ?    Own-child  White  Female             0             0   \n",
       "\n",
       "   hours-per-week native-country  income  \n",
       "0              40  United-States  <=50K.  \n",
       "1              50  United-States  <=50K.  \n",
       "2              40  United-States   >50K.  \n",
       "3              40  United-States   >50K.  \n",
       "4              30  United-States  <=50K.  "
      ]
     },
     "execution_count": 7,
     "metadata": {},
     "output_type": "execute_result"
    }
   ],
   "source": [
    "adult_test.head()"
   ]
  },
  {
   "cell_type": "code",
   "execution_count": 8,
   "id": "4d43667c-498c-4b8d-b5a7-9a21547e85b2",
   "metadata": {
    "execution": {
     "iopub.execute_input": "2022-04-22T15:23:27.329362Z",
     "iopub.status.busy": "2022-04-22T15:23:27.329080Z",
     "iopub.status.idle": "2022-04-22T15:23:27.345412Z",
     "shell.execute_reply": "2022-04-22T15:23:27.344693Z",
     "shell.execute_reply.started": "2022-04-22T15:23:27.329336Z"
    },
    "tags": []
   },
   "outputs": [
    {
     "data": {
      "text/plain": [
       "(48842, 15)"
      ]
     },
     "execution_count": 8,
     "metadata": {},
     "output_type": "execute_result"
    }
   ],
   "source": [
    "# merge datasets so can perform feature engineering and train/test split later\n",
    "tomerge = [adult_data, adult_test]\n",
    "data = pd.concat(tomerge)\n",
    "data.shape"
   ]
  },
  {
   "cell_type": "code",
   "execution_count": 9,
   "id": "7e40092a-2a5f-49f6-b10e-23de598cf172",
   "metadata": {
    "execution": {
     "iopub.execute_input": "2022-04-22T15:23:33.741506Z",
     "iopub.status.busy": "2022-04-22T15:23:33.741151Z",
     "iopub.status.idle": "2022-04-22T15:23:33.770200Z",
     "shell.execute_reply": "2022-04-22T15:23:33.769290Z",
     "shell.execute_reply.started": "2022-04-22T15:23:33.741472Z"
    },
    "tags": []
   },
   "outputs": [
    {
     "data": {
      "text/plain": [
       "age               0\n",
       "workclass         0\n",
       "fnlwgt            0\n",
       "education         0\n",
       "education-num     0\n",
       "marital-status    0\n",
       "occupation        0\n",
       "relationship      0\n",
       "race              0\n",
       "sex               0\n",
       "capital-gain      0\n",
       "capital-loss      0\n",
       "hours-per-week    0\n",
       "native-country    0\n",
       "income            0\n",
       "dtype: int64"
      ]
     },
     "execution_count": 9,
     "metadata": {},
     "output_type": "execute_result"
    }
   ],
   "source": [
    "# data have been cleaned but check for null anyway\n",
    "data.isna().sum()"
   ]
  },
  {
   "cell_type": "markdown",
   "id": "990ccb15-d74b-4607-98fb-e54b6383f0a7",
   "metadata": {},
   "source": [
    "### Create features"
   ]
  },
  {
   "cell_type": "code",
   "execution_count": 10,
   "id": "8e3cd59f-ddad-45a9-a928-112aaff164aa",
   "metadata": {
    "execution": {
     "iopub.execute_input": "2022-04-22T15:23:40.826351Z",
     "iopub.status.busy": "2022-04-22T15:23:40.826068Z",
     "iopub.status.idle": "2022-04-22T15:23:40.833055Z",
     "shell.execute_reply": "2022-04-22T15:23:40.832506Z",
     "shell.execute_reply.started": "2022-04-22T15:23:40.826316Z"
    },
    "tags": []
   },
   "outputs": [
    {
     "data": {
      "text/plain": [
       "age                int64\n",
       "workclass         object\n",
       "fnlwgt             int64\n",
       "education         object\n",
       "education-num      int64\n",
       "marital-status    object\n",
       "occupation        object\n",
       "relationship      object\n",
       "race              object\n",
       "sex               object\n",
       "capital-gain       int64\n",
       "capital-loss       int64\n",
       "hours-per-week     int64\n",
       "native-country    object\n",
       "income            object\n",
       "dtype: object"
      ]
     },
     "execution_count": 10,
     "metadata": {},
     "output_type": "execute_result"
    }
   ],
   "source": [
    "# print datatypes\n",
    "data.dtypes"
   ]
  },
  {
   "cell_type": "code",
   "execution_count": 11,
   "id": "44b77a21-771d-48c4-90f8-0ff708a05ea9",
   "metadata": {
    "execution": {
     "iopub.execute_input": "2022-04-22T15:23:44.933944Z",
     "iopub.status.busy": "2022-04-22T15:23:44.933425Z",
     "iopub.status.idle": "2022-04-22T15:23:44.943350Z",
     "shell.execute_reply": "2022-04-22T15:23:44.942281Z",
     "shell.execute_reply.started": "2022-04-22T15:23:44.933914Z"
    },
    "tags": []
   },
   "outputs": [
    {
     "data": {
      "text/plain": [
       "array(['<=50K', '>50K', '<=50K.', '>50K.'], dtype=object)"
      ]
     },
     "execution_count": 11,
     "metadata": {},
     "output_type": "execute_result"
    }
   ],
   "source": [
    "data.income.unique()"
   ]
  },
  {
   "cell_type": "markdown",
   "id": "5f70e480-c551-4e37-a93a-7d1dac0b77aa",
   "metadata": {},
   "source": [
    "Income needs attention as original test and train were formatted slightly differently.\n",
    "\n",
    "Floats are ok, though may benefit from scaling.\n",
    "\n",
    "A number are categorical and need converting to numerical:\n",
    "- workclass, education, occupation, relationship, race, sex, native-country, income"
   ]
  },
  {
   "cell_type": "code",
   "execution_count": 12,
   "id": "81349b88-2dbd-4165-9a99-a0bcd845ef6d",
   "metadata": {
    "execution": {
     "iopub.execute_input": "2022-04-22T15:24:46.361762Z",
     "iopub.status.busy": "2022-04-22T15:24:46.361275Z",
     "iopub.status.idle": "2022-04-22T15:24:46.370265Z",
     "shell.execute_reply": "2022-04-22T15:24:46.369351Z",
     "shell.execute_reply.started": "2022-04-22T15:24:46.361734Z"
    },
    "tags": []
   },
   "outputs": [],
   "source": [
    "# split off income as feature, and correct formatting\n",
    "income = data.income.map({'<=50K': '<=50K', '<=50K.' : '<=50K', '>50K': '>50K', '>50K.': '>50K'}).tolist()"
   ]
  },
  {
   "cell_type": "code",
   "execution_count": 13,
   "id": "2f06e272-4cc3-4a54-b9da-9bfbf9ee6f2c",
   "metadata": {
    "execution": {
     "iopub.execute_input": "2022-04-22T15:24:46.925244Z",
     "iopub.status.busy": "2022-04-22T15:24:46.924971Z",
     "iopub.status.idle": "2022-04-22T15:24:46.945019Z",
     "shell.execute_reply": "2022-04-22T15:24:46.944100Z",
     "shell.execute_reply.started": "2022-04-22T15:24:46.925218Z"
    },
    "tags": []
   },
   "outputs": [],
   "source": [
    "# generate df with income dropped\n",
    "data_drop = data.drop('income', axis=1)"
   ]
  },
  {
   "cell_type": "code",
   "execution_count": 17,
   "id": "75f066cf-dc85-42cd-b9c4-cacd77d17b7d",
   "metadata": {
    "execution": {
     "iopub.execute_input": "2022-04-22T15:26:16.993403Z",
     "iopub.status.busy": "2022-04-22T15:26:16.992854Z",
     "iopub.status.idle": "2022-04-22T15:26:17.504510Z",
     "shell.execute_reply": "2022-04-22T15:26:17.503900Z",
     "shell.execute_reply.started": "2022-04-22T15:26:16.993376Z"
    },
    "tags": []
   },
   "outputs": [],
   "source": [
    "# OneHot encode categorical to numerical\n",
    "from sklearn.preprocessing import OneHotEncoder\n",
    "\n",
    "encoder = OneHotEncoder()\n",
    "data_encoded = encoder.fit_transform(data_drop.astype(str))"
   ]
  },
  {
   "cell_type": "markdown",
   "id": "d9fdfa77-db46-4e68-bc68-6b1c0df62d81",
   "metadata": {},
   "source": [
    "### Model data"
   ]
  },
  {
   "cell_type": "code",
   "execution_count": 36,
   "id": "a06d6e15-9c61-42aa-93b6-fb966b7f5f53",
   "metadata": {
    "execution": {
     "iopub.execute_input": "2022-04-22T18:30:28.598944Z",
     "iopub.status.busy": "2022-04-22T18:30:28.598610Z",
     "iopub.status.idle": "2022-04-22T18:30:28.611229Z",
     "shell.execute_reply": "2022-04-22T18:30:28.610494Z",
     "shell.execute_reply.started": "2022-04-22T18:30:28.598915Z"
    },
    "tags": []
   },
   "outputs": [],
   "source": [
    "# tune the model\n",
    "\n",
    "# import prev function\n",
    "\n",
    "def train_forests(data, labels, est, step):\n",
    "    # split into train and test sets, random state for reproducibility\n",
    "    train_data, test_data, train_labels, test_labels = train_test_split(data, labels, test_size = 0.25, random_state = 1)\n",
    "    \n",
    "    # train model with i estimators\n",
    "\n",
    "    scores = []\n",
    "    topscores = []\n",
    "    \n",
    "    for i in range(step, est+step, step):\n",
    "        clf = RandomForestClassifier(max_depth=i)\n",
    "        clf.fit(train_data, train_labels)\n",
    "        accuracy = clf.score(test_data, test_labels)\n",
    "        scores.append([i, accuracy])\n",
    "    \n",
    "    # graph scores\n",
    "    \n",
    "    # extract estimators\n",
    "    estimators = [x[0] for x in scores]\n",
    "\n",
    "    # extract scores\n",
    "    scores_only = [x[1] for x in scores]\n",
    "    \n",
    "    # report top scores\n",
    "    for i, j in enumerate(scores_only):\n",
    "        if j == max(scores_only):\n",
    "            topscores.append([estimators[i], j])\n",
    "    \n",
    "    # define plot\n",
    "    \n",
    "    plt.figure(figsize=(12, 6))\n",
    "    plt.plot(estimators, scores_only, 'b-')\n",
    "    plt.xlabel('n estimators')\n",
    "    plt.xticks(range(step, est+step, step), rotation='vertical')\n",
    "    plt.ylabel('Accuracy on test data')\n",
    "    plt.title('Plot for max_depth={}, step={}'.format(est, step))\n",
    "    \n",
    "    ymax = max(scores_only)\n",
    "    xmax = estimators[scores_only.index(ymax)]\n",
    "    text= \"Best accuracy={:.3f} at depth={:d}, \".format(ymax, xmax)\n",
    "    bbox_props = dict(boxstyle=\"square,pad=0.3\", fc=\"w\", ec=\"k\", lw=0.72)\n",
    "    arrowprops=dict(arrowstyle=\"->\",connectionstyle=\"angle,angleA=0,angleB=60\")\n",
    "    kw = dict(xycoords='data',textcoords=\"axes fraction\",\n",
    "              arrowprops=arrowprops, bbox=bbox_props, ha=\"right\", va=\"top\")\n",
    "    plt.annotate(text, xy=(xmax, ymax), xytext=(0.3,0.96), **kw)\n",
    "\n",
    "    # output\n",
    "    print(\"Best accuracy is {}, with depth {}\".format(topscores[0][1], topscores[0][0]))\n",
    "    plt.show()"
   ]
  },
  {
   "cell_type": "code",
   "execution_count": 38,
   "id": "400114c2-7bf5-49ed-a398-7dfee8f9fed7",
   "metadata": {
    "execution": {
     "iopub.execute_input": "2022-04-22T18:30:50.055756Z",
     "iopub.status.busy": "2022-04-22T18:30:50.055453Z",
     "iopub.status.idle": "2022-04-22T18:55:22.709903Z",
     "shell.execute_reply": "2022-04-22T18:55:22.709037Z",
     "shell.execute_reply.started": "2022-04-22T18:30:50.055730Z"
    },
    "tags": []
   },
   "outputs": [
    {
     "name": "stdout",
     "output_type": "stream",
     "text": [
      "Best accuracy is 0.8613545164196217, with depth 170\n"
     ]
    },
    {
     "data": {
      "image/png": "[encoded data removed]",
      "text/plain": [
       "<Figure size 864x432 with 1 Axes>"
      ]
     },
     "metadata": {
      "needs_background": "light"
     },
     "output_type": "display_data"
    }
   ],
   "source": [
    "train_forests(data_encoded, income, 200, 10)"
   ]
  },
  {
   "cell_type": "code",
   "execution_count": 39,
   "id": "647c4d12-2508-46bf-b000-e76bce6743ae",
   "metadata": {
    "execution": {
     "iopub.execute_input": "2022-04-22T19:00:26.235016Z",
     "iopub.status.busy": "2022-04-22T19:00:26.234553Z",
     "iopub.status.idle": "2022-04-22T19:40:40.624940Z",
     "shell.execute_reply": "2022-04-22T19:40:40.624277Z",
     "shell.execute_reply.started": "2022-04-22T19:00:26.234990Z"
    },
    "tags": []
   },
   "outputs": [
    {
     "name": "stdout",
     "output_type": "stream",
     "text": [
      "Best accuracy is 0.8597985422979281, with depth 150\n"
     ]
    },
    {
     "data": {
      "image/png": "[encoded data removed]",
      "text/plain": [
       "<Figure size 864x432 with 1 Axes>"
      ]
     },
     "metadata": {
      "needs_background": "light"
     },
     "output_type": "display_data"
    }
   ],
   "source": [
    "# try a higher range as looks like it was plateauing, but maybe still increasing?\n",
    "train_forests(data_encoded, income, 1000, 50)"
   ]
  },
  {
   "cell_type": "markdown",
   "id": "8c232fcc-dbfd-4b0c-a8b6-c7339bd1ccac",
   "metadata": {},
   "source": [
    "### Investigate\n",
    "\n",
    "Best fit seems to be around 150, so I'll stick with the max_depth=170 from the first iteration."
   ]
  },
  {
   "cell_type": "code",
   "execution_count": 41,
   "id": "5b5173fe-81d1-48f8-bae8-24beb69a874d",
   "metadata": {
    "execution": {
     "iopub.execute_input": "2022-04-22T19:49:50.076197Z",
     "iopub.status.busy": "2022-04-22T19:49:50.075898Z",
     "iopub.status.idle": "2022-04-22T19:51:41.988648Z",
     "shell.execute_reply": "2022-04-22T19:51:41.988060Z",
     "shell.execute_reply.started": "2022-04-22T19:49:50.076165Z"
    },
    "tags": []
   },
   "outputs": [
    {
     "name": "stdout",
     "output_type": "stream",
     "text": [
      "Accuracy on test data 0.764\n"
     ]
    }
   ],
   "source": [
    "# split data as per train_forests function\n",
    "train_data, test_data, train_labels, test_labels = train_test_split(data_encoded, income, test_size = 0.25, random_state = 1)\n",
    "\n",
    "# train model with max_depth = 1\n",
    "clf_170 = RandomForestClassifier(max_depth=170)\n",
    "clf_170.fit(train_data, train_labels)\n",
    "\n",
    "print(\"Accuracy on test data {:.3f}\".format(clf_16.score(test_data, test_labels)))"
   ]
  },
  {
   "cell_type": "code",
   "execution_count": 42,
   "id": "d006e352-9e82-4603-92a1-0c2040e98095",
   "metadata": {
    "execution": {
     "iopub.execute_input": "2022-04-22T19:51:41.990853Z",
     "iopub.status.busy": "2022-04-22T19:51:41.990545Z",
     "iopub.status.idle": "2022-04-22T19:51:42.736505Z",
     "shell.execute_reply": "2022-04-22T19:51:42.735748Z",
     "shell.execute_reply.started": "2022-04-22T19:51:41.990823Z"
    },
    "tags": []
   },
   "outputs": [],
   "source": [
    "# make predictions on test data\n",
    "clf_170_predictions = clf_170.predict(test_data)"
   ]
  },
  {
   "cell_type": "code",
   "execution_count": 43,
   "id": "5c46d2b2-21db-414d-915f-03971a817043",
   "metadata": {
    "execution": {
     "iopub.execute_input": "2022-04-22T19:51:42.738322Z",
     "iopub.status.busy": "2022-04-22T19:51:42.737943Z",
     "iopub.status.idle": "2022-04-22T19:51:43.539467Z",
     "shell.execute_reply": "2022-04-22T19:51:43.538633Z",
     "shell.execute_reply.started": "2022-04-22T19:51:42.738295Z"
    },
    "tags": []
   },
   "outputs": [
    {
     "data": {
      "text/plain": [
       "[['education', 0.0072961345707197485],\n",
       " ['education-num', 0.005058549522028987],\n",
       " ['marital-status', 0.0046524931648706195],\n",
       " ['workclass', 0.00423579065029625],\n",
       " ['race', 0.004123059900744092],\n",
       " ['capital-loss', 0.0023272646491192327],\n",
       " ['occupation', 0.002322248598420738],\n",
       " ['age', 0.0020082933286266905],\n",
       " ['relationship', 0.002001852678757225],\n",
       " ['fnlwgt', 0.0019462647027120323],\n",
       " ['capital-gain', 0.0013204482301494196],\n",
       " ['sex', 0.001179571470796223],\n",
       " ['hours-per-week', 0.0003948456663165891],\n",
       " ['native-country', 0.0002675343542176197]]"
      ]
     },
     "execution_count": 43,
     "metadata": {},
     "output_type": "execute_result"
    }
   ],
   "source": [
    " # look at which features are most important\n",
    "feats = []\n",
    "\n",
    "for feat in enumerate(data_drop):\n",
    "    feats.append([feat[1], clf_16.feature_importances_[feat[0]]])\n",
    "best_feats = sorted(feats, key=lambda x : x[1], reverse=True)\n",
    "\n",
    "best_feats"
   ]
  },
  {
   "cell_type": "markdown",
   "id": "32d22601-7676-4d75-866c-4db49ec7b01e",
   "metadata": {},
   "source": [
    "This wasn't especially informative, other that to imply don't have any especially standout features. I won't look into feature subsets further."
   ]
  },
  {
   "cell_type": "code",
   "execution_count": 44,
   "id": "ee18b6a2-3a1a-4b10-acdb-5d389becd502",
   "metadata": {
    "execution": {
     "iopub.execute_input": "2022-04-22T19:51:43.542637Z",
     "iopub.status.busy": "2022-04-22T19:51:43.542368Z",
     "iopub.status.idle": "2022-04-22T19:51:43.546244Z",
     "shell.execute_reply": "2022-04-22T19:51:43.545414Z",
     "shell.execute_reply.started": "2022-04-22T19:51:43.542612Z"
    },
    "tags": []
   },
   "outputs": [],
   "source": [
    "# import some metrics\n",
    "\n",
    "from sklearn.metrics import accuracy_score, confusion_matrix, classification_report"
   ]
  },
  {
   "cell_type": "code",
   "execution_count": 47,
   "id": "784092ea-9d12-4506-baac-054a85afbae8",
   "metadata": {
    "execution": {
     "iopub.execute_input": "2022-04-22T19:54:50.175876Z",
     "iopub.status.busy": "2022-04-22T19:54:50.175576Z",
     "iopub.status.idle": "2022-04-22T19:54:50.414809Z",
     "shell.execute_reply": "2022-04-22T19:54:50.413962Z",
     "shell.execute_reply.started": "2022-04-22T19:54:50.175848Z"
    },
    "tags": []
   },
   "outputs": [
    {
     "data": {
      "image/png": "[encoded data removed]",
      "text/plain": [
       "<Figure size 576x432 with 2 Axes>"
      ]
     },
     "metadata": {},
     "output_type": "display_data"
    }
   ],
   "source": [
    "# plot confusion matrix using seaborn heatmap; based on https://medium.com/analytics-vidhya/evaluating-a-random-forest-model-9d165595\n",
    "import seaborn as sns\n",
    "\n",
    "# Get and reshape confusion matrix data\n",
    "matrix = confusion_matrix(test_labels, clf_170_predictions)\n",
    "matrix = matrix.astype('float') / matrix.sum(axis=1)[:, np.newaxis]\n",
    "\n",
    "# Build the plot\n",
    "plt.figure(figsize=(8,6))\n",
    "sns.set(font_scale=1.4)\n",
    "sns.heatmap(matrix, annot=True, annot_kws={'size':10},\n",
    "            cmap=plt.cm.Greens, linewidths=0.2)\n",
    "\n",
    "# Add labels to the plot\n",
    "class_names = ['True', 'False']\n",
    "plt.xticks(ticks=[0.5, 1.5], labels=class_names)\n",
    "plt.yticks(ticks=[0.5, 1.5], labels=class_names)\n",
    "plt.xlabel('Predicted label')\n",
    "plt.ylabel('True label')\n",
    "plt.title('Confusion Matrix for Random Forest Model, depth=170')\n",
    "plt.show()"
   ]
  },
  {
   "cell_type": "code",
   "execution_count": 49,
   "id": "45ba4f10-9256-48eb-a64e-16bc18fd3b69",
   "metadata": {
    "execution": {
     "iopub.execute_input": "2022-04-22T19:54:56.785684Z",
     "iopub.status.busy": "2022-04-22T19:54:56.785397Z",
     "iopub.status.idle": "2022-04-22T19:54:56.936964Z",
     "shell.execute_reply": "2022-04-22T19:54:56.936205Z",
     "shell.execute_reply.started": "2022-04-22T19:54:56.785641Z"
    },
    "tags": []
   },
   "outputs": [
    {
     "name": "stdout",
     "output_type": "stream",
     "text": [
      "              precision    recall  f1-score   support\n",
      "\n",
      "       <=50K       0.88      0.95      0.91      9292\n",
      "        >50K       0.78      0.58      0.66      2919\n",
      "\n",
      "    accuracy                           0.86     12211\n",
      "   macro avg       0.83      0.76      0.79     12211\n",
      "weighted avg       0.85      0.86      0.85     12211\n",
      "\n"
     ]
    }
   ],
   "source": [
    "# View the classification report for test data and predictions\n",
    "print(classification_report(test_labels, clf_170_predictions))"
   ]
  },
  {
   "cell_type": "markdown",
   "id": "9b8a9acd-5b12-4a5d-92a1-6ea1bb7293c4",
   "metadata": {
    "execution": {
     "iopub.execute_input": "2022-04-22T14:10:56.659903Z",
     "iopub.status.busy": "2022-04-22T14:10:56.659613Z",
     "iopub.status.idle": "2022-04-22T14:10:56.666824Z",
     "shell.execute_reply": "2022-04-22T14:10:56.665953Z",
     "shell.execute_reply.started": "2022-04-22T14:10:56.659880Z"
    },
    "tags": []
   },
   "source": [
    "The heatmap shows most prediction of true values is good (95% or true values are predicted correctly, with only 5% false positives.  However, false negatives occur relatively often (42% of the time), meaning correctly prediction of negatives (here, earning >50K) is only 58%.  I will implement GridSearchCV, as outlined [here](https://towardsdatascience.com/fine-tuning-a-classifier-in-scikit-learn-66e048c21e65) to see if this can be improved."
   ]
  },
  {
   "cell_type": "code",
   "execution_count": 53,
   "id": "bac10ab1-53d0-4245-8a54-499efd59a442",
   "metadata": {
    "execution": {
     "iopub.execute_input": "2022-04-22T19:57:04.894755Z",
     "iopub.status.busy": "2022-04-22T19:57:04.894399Z",
     "iopub.status.idle": "2022-04-22T19:57:04.900085Z",
     "shell.execute_reply": "2022-04-22T19:57:04.899079Z",
     "shell.execute_reply.started": "2022-04-22T19:57:04.894721Z"
    },
    "tags": []
   },
   "outputs": [],
   "source": [
    "param_grid = {\n",
    "    'n_estimators' : [3, 10, 30],\n",
    "    'max_depth': [170],\n",
    "    'max_features': [3, 8, 14]\n",
    "}"
   ]
  },
  {
   "cell_type": "code",
   "execution_count": 54,
   "id": "f679bd3b-1e02-4434-9b7b-bc71c8010d46",
   "metadata": {
    "execution": {
     "iopub.execute_input": "2022-04-22T19:57:05.208821Z",
     "iopub.status.busy": "2022-04-22T19:57:05.208493Z",
     "iopub.status.idle": "2022-04-22T19:57:05.241723Z",
     "shell.execute_reply": "2022-04-22T19:57:05.240835Z",
     "shell.execute_reply.started": "2022-04-22T19:57:05.208791Z"
    },
    "tags": []
   },
   "outputs": [],
   "source": [
    "# prep data\n",
    "income_num = []\n",
    "for x in income:\n",
    "    if x == '>50K':\n",
    "        income_num.append(1)\n",
    "    if x != '>50K':\n",
    "        income_num.append(0)\n",
    "\n",
    "train_data2, test_data2, train_labels2, test_labels2 = train_test_split(data_encoded, income_num, test_size = 0.25, random_state = 1)"
   ]
  },
  {
   "cell_type": "code",
   "execution_count": 56,
   "id": "a0880862-c0ad-483d-b0e3-3e0fadad193c",
   "metadata": {
    "execution": {
     "iopub.execute_input": "2022-04-22T19:57:16.879899Z",
     "iopub.status.busy": "2022-04-22T19:57:16.879615Z",
     "iopub.status.idle": "2022-04-22T20:03:30.607133Z",
     "shell.execute_reply": "2022-04-22T20:03:30.606436Z",
     "shell.execute_reply.started": "2022-04-22T19:57:16.879869Z"
    },
    "tags": []
   },
   "outputs": [
    {
     "data": {
      "text/plain": [
       "GridSearchCV(cv=StratifiedKFold(n_splits=10, random_state=None, shuffle=False),\n",
       "             estimator=RandomForestClassifier(),\n",
       "             param_grid={'max_depth': [170], 'max_features': [3, 8, 14],\n",
       "                         'n_estimators': [3, 10, 30]},\n",
       "             scoring='neg_mean_squared_error')"
      ]
     },
     "execution_count": 56,
     "metadata": {},
     "output_type": "execute_result"
    }
   ],
   "source": [
    "from sklearn.model_selection import GridSearchCV, StratifiedKFold\n",
    "\n",
    "skf = StratifiedKFold(n_splits=10)\n",
    "clf = RandomForestClassifier()\n",
    "grid_search = GridSearchCV(clf, param_grid, scoring='neg_mean_squared_error', cv=skf)\n",
    "grid_search.fit(train_data2, train_labels2)"
   ]
  },
  {
   "cell_type": "code",
   "execution_count": 57,
   "id": "081bec45-caec-4902-be39-bbbda05373cf",
   "metadata": {
    "execution": {
     "iopub.execute_input": "2022-04-22T20:03:30.609081Z",
     "iopub.status.busy": "2022-04-22T20:03:30.608724Z",
     "iopub.status.idle": "2022-04-22T20:03:30.614541Z",
     "shell.execute_reply": "2022-04-22T20:03:30.613814Z",
     "shell.execute_reply.started": "2022-04-22T20:03:30.609046Z"
    },
    "tags": []
   },
   "outputs": [
    {
     "data": {
      "text/plain": [
       "RandomForestClassifier(max_depth=170, max_features=14, n_estimators=3)"
      ]
     },
     "execution_count": 57,
     "metadata": {},
     "output_type": "execute_result"
    }
   ],
   "source": [
    "grid_search.best_estimator_"
   ]
  },
  {
   "cell_type": "code",
   "execution_count": 58,
   "id": "3e97a0b6-40cd-4457-ab6b-0160aecbccad",
   "metadata": {
    "execution": {
     "iopub.execute_input": "2022-04-22T20:03:30.616047Z",
     "iopub.status.busy": "2022-04-22T20:03:30.615728Z",
     "iopub.status.idle": "2022-04-22T20:03:30.625572Z",
     "shell.execute_reply": "2022-04-22T20:03:30.623616Z",
     "shell.execute_reply.started": "2022-04-22T20:03:30.616018Z"
    },
    "tags": []
   },
   "outputs": [
    {
     "data": {
      "text/plain": [
       "-0.2146817818215198"
      ]
     },
     "execution_count": 58,
     "metadata": {},
     "output_type": "execute_result"
    }
   ],
   "source": [
    "grid_search.best_score_"
   ]
  },
  {
   "cell_type": "code",
   "execution_count": 59,
   "id": "cadea870-c195-4415-a1d0-7d6e936fab9d",
   "metadata": {
    "execution": {
     "iopub.execute_input": "2022-04-22T20:29:31.478278Z",
     "iopub.status.busy": "2022-04-22T20:29:31.477983Z",
     "iopub.status.idle": "2022-04-22T20:29:32.920133Z",
     "shell.execute_reply": "2022-04-22T20:29:32.919576Z",
     "shell.execute_reply.started": "2022-04-22T20:29:31.478250Z"
    },
    "tags": []
   },
   "outputs": [
    {
     "name": "stdout",
     "output_type": "stream",
     "text": [
      "Accuracy on test data 0.775\n"
     ]
    }
   ],
   "source": [
    "# train model using gridsearch optimisation\n",
    "clf_best = RandomForestClassifier(max_depth=170, max_features=14, n_estimators=3)\n",
    "clf_best.fit(train_data, train_labels)\n",
    "\n",
    "print(\"Accuracy on test data {:.3f}\".format(clf_best.score(test_data, test_labels)))"
   ]
  },
  {
   "cell_type": "code",
   "execution_count": 60,
   "id": "601b23d8-79c9-40c5-87f9-86e6eb5d3809",
   "metadata": {
    "execution": {
     "iopub.execute_input": "2022-04-22T20:29:37.744433Z",
     "iopub.status.busy": "2022-04-22T20:29:37.744096Z",
     "iopub.status.idle": "2022-04-22T20:29:38.010906Z",
     "shell.execute_reply": "2022-04-22T20:29:38.010098Z",
     "shell.execute_reply.started": "2022-04-22T20:29:37.744400Z"
    },
    "tags": []
   },
   "outputs": [
    {
     "data": {
      "image/png": "[encoded data removed]",
      "text/plain": [
       "<Figure size 576x432 with 2 Axes>"
      ]
     },
     "metadata": {},
     "output_type": "display_data"
    }
   ],
   "source": [
    "# make predictions on test data\n",
    "clf_best_predictions = clf_best.predict(test_data)\n",
    "\n",
    "# plot confusion matrix\n",
    "\n",
    "# Get and reshape confusion matrix data\n",
    "matrix = confusion_matrix(test_labels, clf_best_predictions)\n",
    "matrix = matrix.astype('float') / matrix.sum(axis=1)[:, np.newaxis]\n",
    "\n",
    "# Build the plot\n",
    "plt.figure(figsize=(8,6))\n",
    "sns.set(font_scale=1.4)\n",
    "sns.heatmap(matrix, annot=True, annot_kws={'size':10},\n",
    "            cmap=plt.cm.Greens, linewidths=0.2)\n",
    "\n",
    "# Add labels to the plot\n",
    "class_names = ['True', 'False']\n",
    "plt.xticks(ticks=[0.5, 1.5], labels=class_names)\n",
    "plt.yticks(ticks=[0.5, 1.5], labels=class_names)\n",
    "plt.xlabel('Predicted label')\n",
    "plt.ylabel('True label')\n",
    "plt.title('Confusion Matrix for Random Forest Model, depth=16')\n",
    "plt.show()"
   ]
  },
  {
   "cell_type": "code",
   "execution_count": 61,
   "id": "a82b793e-93b3-456c-b746-cb97f9240d18",
   "metadata": {
    "execution": {
     "iopub.execute_input": "2022-04-22T20:29:38.233193Z",
     "iopub.status.busy": "2022-04-22T20:29:38.232884Z",
     "iopub.status.idle": "2022-04-22T20:29:38.390346Z",
     "shell.execute_reply": "2022-04-22T20:29:38.389760Z",
     "shell.execute_reply.started": "2022-04-22T20:29:38.233163Z"
    },
    "tags": []
   },
   "outputs": [
    {
     "name": "stdout",
     "output_type": "stream",
     "text": [
      "              precision    recall  f1-score   support\n",
      "\n",
      "       <=50K       0.78      0.97      0.87      9292\n",
      "        >50K       0.61      0.15      0.25      2919\n",
      "\n",
      "    accuracy                           0.77     12211\n",
      "   macro avg       0.70      0.56      0.56     12211\n",
      "weighted avg       0.74      0.77      0.72     12211\n",
      "\n"
     ]
    }
   ],
   "source": [
    "# View the classification report for test data and predictions\n",
    "print(classification_report(test_labels, clf_best_predictions))"
   ]
  },
  {
   "cell_type": "markdown",
   "id": "63d09808-bdeb-47e5-b317-eec2ad5c6e1f",
   "metadata": {},
   "source": [
    "This has made very little difference. The accuracy improved form 0.764 to 0.775 - neither as good as the 0.861 recorded in the initial"
   ]
  }
 ],
 "metadata": {
  "kernelspec": {
   "display_name": "Python 3 (ipykernel)",
   "language": "python",
   "name": "python3"
  },
  "language_info": {
   "codemirror_mode": {
    "name": "ipython",
    "version": 3
   },
   "file_extension": ".py",
   "mimetype": "text/x-python",
   "name": "python",
   "nbconvert_exporter": "python",
   "pygments_lexer": "ipython3",
   "version": "3.9.0"
  }
 },
 "nbformat": 4,
 "nbformat_minor": 5
}
