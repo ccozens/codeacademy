{
 "cells": [
  {
   "cell_type": "markdown",
   "id": "aec13d0a-e5a5-4ed8-8cfd-c1f0d93e1726",
   "metadata": {},
   "source": [
    "## Email Similarity\n",
    "In this project, you will use scikit-learn’s Naive Bayes implementation on several different datasets. By reporting the accuracy of the classifier, we can find which datasets are harder to distinguish. For example, how difficult do you think it is to distinguish the difference between emails about hockey and emails about soccer? How hard is it to tell the difference between emails about hockey and emails about tech? In this project, we’ll find out exactly how difficult those two tasks are."
   ]
  },
  {
   "cell_type": "code",
   "execution_count": 76,
   "id": "3622419a-5307-4bfc-af06-a9aa9a8a74ef",
   "metadata": {
    "execution": {
     "iopub.execute_input": "2022-04-23T14:41:37.049782Z",
     "iopub.status.busy": "2022-04-23T14:41:37.049475Z",
     "iopub.status.idle": "2022-04-23T14:41:37.325632Z",
     "shell.execute_reply": "2022-04-23T14:41:37.324699Z",
     "shell.execute_reply.started": "2022-04-23T14:41:37.049749Z"
    },
    "tags": []
   },
   "outputs": [],
   "source": [
    "# from codeacademy\n",
    "from sklearn.datasets import fetch_20newsgroups\n",
    "from sklearn.naive_bayes import MultinomialNB\n",
    "from sklearn.feature_extraction.text import CountVectorizer\n",
    "\n",
    "emails = fetch_20newsgroups()"
   ]
  },
  {
   "cell_type": "markdown",
   "id": "cc30b5a4-100a-4fcc-b74d-e4f98350ac31",
   "metadata": {},
   "source": [
    "### Exploring the Data"
   ]
  },
  {
   "cell_type": "code",
   "execution_count": 77,
   "id": "53abe292-8ddc-4784-afb8-c9f580cbb203",
   "metadata": {
    "execution": {
     "iopub.execute_input": "2022-04-23T14:41:37.636307Z",
     "iopub.status.busy": "2022-04-23T14:41:37.635651Z",
     "iopub.status.idle": "2022-04-23T14:41:37.640712Z",
     "shell.execute_reply": "2022-04-23T14:41:37.640068Z",
     "shell.execute_reply.started": "2022-04-23T14:41:37.636276Z"
    },
    "tags": []
   },
   "outputs": [
    {
     "data": {
      "text/plain": [
       "['alt.atheism',\n",
       " 'comp.graphics',\n",
       " 'comp.os.ms-windows.misc',\n",
       " 'comp.sys.ibm.pc.hardware',\n",
       " 'comp.sys.mac.hardware',\n",
       " 'comp.windows.x',\n",
       " 'misc.forsale',\n",
       " 'rec.autos',\n",
       " 'rec.motorcycles',\n",
       " 'rec.sport.baseball',\n",
       " 'rec.sport.hockey',\n",
       " 'sci.crypt',\n",
       " 'sci.electronics',\n",
       " 'sci.med',\n",
       " 'sci.space',\n",
       " 'soc.religion.christian',\n",
       " 'talk.politics.guns',\n",
       " 'talk.politics.mideast',\n",
       " 'talk.politics.misc',\n",
       " 'talk.religion.misc']"
      ]
     },
     "execution_count": 77,
     "metadata": {},
     "output_type": "execute_result"
    }
   ],
   "source": [
    "# Print emails.target_names to see the different categories.\n",
    "\n",
    "emails.target_names"
   ]
  },
  {
   "cell_type": "code",
   "execution_count": 78,
   "id": "30b4e0a0-0990-4488-b9dc-c3970e95bc47",
   "metadata": {
    "execution": {
     "iopub.execute_input": "2022-04-23T14:41:38.647263Z",
     "iopub.status.busy": "2022-04-23T14:41:38.646962Z",
     "iopub.status.idle": "2022-04-23T14:41:38.919487Z",
     "shell.execute_reply": "2022-04-23T14:41:38.918849Z",
     "shell.execute_reply.started": "2022-04-23T14:41:38.647232Z"
    },
    "tags": []
   },
   "outputs": [],
   "source": [
    "# We’re interested in seeing how effective our Naive Bayes classifier is at telling the difference between a baseball email and a hockey email. \n",
    "# We can select the categories of articles we want from fetch_20newsgroups by adding the parameter categories.\n",
    "categories = fetch_20newsgroups(categories=['rec.sport.baseball', 'rec.sport.hockey'])"
   ]
  },
  {
   "cell_type": "code",
   "execution_count": 79,
   "id": "e31673fe-e402-43bb-95e4-ccea7685b5f6",
   "metadata": {
    "execution": {
     "iopub.execute_input": "2022-04-23T14:41:41.574010Z",
     "iopub.status.busy": "2022-04-23T14:41:41.573729Z",
     "iopub.status.idle": "2022-04-23T14:41:41.580293Z",
     "shell.execute_reply": "2022-04-23T14:41:41.577725Z",
     "shell.execute_reply.started": "2022-04-23T14:41:41.573984Z"
    },
    "tags": []
   },
   "outputs": [
    {
     "data": {
      "text/plain": [
       "'From: mmb@lamar.ColoState.EDU (Michael Burger)\\nSubject: More TV Info\\nDistribution: na\\nNntp-Posting-Host: lamar.acns.colostate.edu\\nOrganization: Colorado State University, Fort Collins, CO  80523\\nLines: 36\\n\\nUnited States Coverage:\\nSunday April 18\\n  N.J./N.Y.I. at Pittsburgh - 1:00 EDT to Eastern Time Zone\\n  ABC - Gary Thorne and Bill Clement\\n\\n  St. Louis at Chicago - 12:00 CDT and 11:00 MDT - to Central/Mountain Zones\\n  ABC - Mike Emerick and Jim Schoenfeld\\n\\n  Los Angeles at Calgary - 12:00 PDT and 11:00 ADT - to Pacific/Alaskan Zones\\n  ABC - Al Michaels and John Davidson\\n\\nTuesday, April 20\\n  N.J./N.Y.I. at Pittsburgh - 7:30 EDT Nationwide\\n  ESPN - Gary Thorne and Bill Clement\\n\\nThursday, April 22 and Saturday April 24\\n  To Be Announced - 7:30 EDT Nationwide\\n  ESPN - To Be Announced\\n\\n\\nCanadian Coverage:\\n\\nSunday, April 18\\n  Buffalo at Boston - 7:30 EDT Nationwide\\n  TSN - ???\\n\\nTuesday, April 20\\n  N.J.D./N.Y. at Pittsburgh - 7:30 EDT Nationwide\\n  TSN - ???\\n\\nWednesday, April 21\\n  St. Louis at Chicago - 8:30 EDT Nationwide\\n  TSN - ???\\n\\n\\n\\n'"
      ]
     },
     "execution_count": 79,
     "metadata": {},
     "output_type": "execute_result"
    }
   ],
   "source": [
    "# print email at index 5 of emails.data\n",
    "categories.data[5]"
   ]
  },
  {
   "cell_type": "code",
   "execution_count": 80,
   "id": "bce3e33e-3e26-477d-91f9-a181fca017f9",
   "metadata": {
    "execution": {
     "iopub.execute_input": "2022-04-23T14:41:43.037589Z",
     "iopub.status.busy": "2022-04-23T14:41:43.037035Z",
     "iopub.status.idle": "2022-04-23T14:41:43.042285Z",
     "shell.execute_reply": "2022-04-23T14:41:43.041575Z",
     "shell.execute_reply.started": "2022-04-23T14:41:43.037560Z"
    },
    "tags": []
   },
   "outputs": [
    {
     "data": {
      "text/plain": [
       "1"
      ]
     },
     "execution_count": 80,
     "metadata": {},
     "output_type": "execute_result"
    }
   ],
   "source": [
    "# print label of email at index 5\n",
    "categories.target[5]"
   ]
  },
  {
   "cell_type": "code",
   "execution_count": 81,
   "id": "c0035c6c-32ee-4c34-a42d-9f2bc572014d",
   "metadata": {
    "execution": {
     "iopub.execute_input": "2022-04-23T14:41:43.373345Z",
     "iopub.status.busy": "2022-04-23T14:41:43.373056Z",
     "iopub.status.idle": "2022-04-23T14:41:43.378204Z",
     "shell.execute_reply": "2022-04-23T14:41:43.377455Z",
     "shell.execute_reply.started": "2022-04-23T14:41:43.373318Z"
    },
    "tags": []
   },
   "outputs": [
    {
     "data": {
      "text/plain": [
       "'rec.sport.hockey'"
      ]
     },
     "execution_count": 81,
     "metadata": {},
     "output_type": "execute_result"
    }
   ],
   "source": [
    "# lookup what sport that refers to\n",
    "categories.target_names[1]"
   ]
  },
  {
   "cell_type": "markdown",
   "id": "1adfc42e-8564-4a85-a1ec-8c0f72c64e36",
   "metadata": {},
   "source": [
    "## Making the Training and Test Sets"
   ]
  },
  {
   "cell_type": "code",
   "execution_count": 82,
   "id": "715a1953-39d9-45b4-bad8-75ac80b0b6a2",
   "metadata": {
    "execution": {
     "iopub.execute_input": "2022-04-23T14:41:46.251187Z",
     "iopub.status.busy": "2022-04-23T14:41:46.250870Z",
     "iopub.status.idle": "2022-04-23T14:41:46.529975Z",
     "shell.execute_reply": "2022-04-23T14:41:46.528987Z",
     "shell.execute_reply.started": "2022-04-23T14:41:46.251161Z"
    },
    "tags": []
   },
   "outputs": [],
   "source": [
    "# create train set\n",
    "train_emails = fetch_20newsgroups(categories=['rec.sport.baseball', 'rec.sport.hockey'], subset='train', shuffle=True, random_state=108)"
   ]
  },
  {
   "cell_type": "code",
   "execution_count": 83,
   "id": "4786805b-1779-45b5-8a51-1bdf3d696a9b",
   "metadata": {
    "execution": {
     "iopub.execute_input": "2022-04-23T14:41:49.066450Z",
     "iopub.status.busy": "2022-04-23T14:41:49.066135Z",
     "iopub.status.idle": "2022-04-23T14:41:49.559521Z",
     "shell.execute_reply": "2022-04-23T14:41:49.558497Z",
     "shell.execute_reply.started": "2022-04-23T14:41:49.066388Z"
    },
    "tags": []
   },
   "outputs": [],
   "source": [
    "# create test set\n",
    "test_emails = fetch_20newsgroups(categories=['rec.sport.baseball', 'rec.sport.hockey'], subset='test', shuffle=True, random_state=108)"
   ]
  },
  {
   "cell_type": "markdown",
   "id": "2cdd383f-4bb3-42e2-83a1-3d1c7fbfe955",
   "metadata": {},
   "source": [
    "### Counting words"
   ]
  },
  {
   "cell_type": "code",
   "execution_count": 84,
   "id": "9f11af5c-4cce-48a5-be57-73b3e48b8e21",
   "metadata": {
    "execution": {
     "iopub.execute_input": "2022-04-23T14:41:53.656088Z",
     "iopub.status.busy": "2022-04-23T14:41:53.655773Z",
     "iopub.status.idle": "2022-04-23T14:41:53.886141Z",
     "shell.execute_reply": "2022-04-23T14:41:53.884719Z",
     "shell.execute_reply.started": "2022-04-23T14:41:53.656062Z"
    },
    "tags": []
   },
   "outputs": [
    {
     "data": {
      "text/plain": [
       "CountVectorizer()"
      ]
     },
     "execution_count": 84,
     "metadata": {},
     "output_type": "execute_result"
    }
   ],
   "source": [
    "# create CountVectorizer object and train\n",
    "counter = CountVectorizer()\n",
    "counter.fit(test_emails.data, train_emails.data)"
   ]
  },
  {
   "cell_type": "code",
   "execution_count": 85,
   "id": "2f54e610-d5f2-4158-adab-f9a85a2852b9",
   "metadata": {
    "execution": {
     "iopub.execute_input": "2022-04-23T14:41:55.161053Z",
     "iopub.status.busy": "2022-04-23T14:41:55.160768Z",
     "iopub.status.idle": "2022-04-23T14:41:55.567144Z",
     "shell.execute_reply": "2022-04-23T14:41:55.566191Z",
     "shell.execute_reply.started": "2022-04-23T14:41:55.161024Z"
    },
    "tags": []
   },
   "outputs": [],
   "source": [
    "# make list of counts of words in training and sets\n",
    "train_counts = counter.transform(train_emails.data)\n",
    "test_counts = counter.transform(test_emails.data)"
   ]
  },
  {
   "cell_type": "markdown",
   "id": "7b67956c-158d-4640-b43a-03d286348ab0",
   "metadata": {},
   "source": [
    "### Making a Naive Bayes Classifier"
   ]
  },
  {
   "cell_type": "code",
   "execution_count": 86,
   "id": "bca785e7-703c-45db-9451-eaaacaf0009c",
   "metadata": {
    "execution": {
     "iopub.execute_input": "2022-04-23T14:41:57.031235Z",
     "iopub.status.busy": "2022-04-23T14:41:57.030911Z",
     "iopub.status.idle": "2022-04-23T14:41:57.041183Z",
     "shell.execute_reply": "2022-04-23T14:41:57.039720Z",
     "shell.execute_reply.started": "2022-04-23T14:41:57.031208Z"
    },
    "tags": []
   },
   "outputs": [
    {
     "data": {
      "text/plain": [
       "MultinomialNB()"
      ]
     },
     "execution_count": 86,
     "metadata": {},
     "output_type": "execute_result"
    }
   ],
   "source": [
    "# create object and train\n",
    "classifier = MultinomialNB()\n",
    "classifier.fit(train_counts, train_emails.target)"
   ]
  },
  {
   "cell_type": "code",
   "execution_count": 87,
   "id": "e8e9adae-08a9-40de-857a-d160e4fbe130",
   "metadata": {
    "execution": {
     "iopub.execute_input": "2022-04-23T14:41:57.640175Z",
     "iopub.status.busy": "2022-04-23T14:41:57.639863Z",
     "iopub.status.idle": "2022-04-23T14:41:57.645899Z",
     "shell.execute_reply": "2022-04-23T14:41:57.645254Z",
     "shell.execute_reply.started": "2022-04-23T14:41:57.640147Z"
    },
    "tags": []
   },
   "outputs": [
    {
     "name": "stdout",
     "output_type": "stream",
     "text": [
      "Accuracy distinguishing soccer from hockey emails = 96.98%\n"
     ]
    }
   ],
   "source": [
    "# test accuracy\n",
    "acc = classifier.score(test_counts, test_emails.target)\n",
    "print(\"Accuracy distinguishing soccer from hockey emails = {:.2f}%\".format(acc*100))"
   ]
  },
  {
   "cell_type": "markdown",
   "id": "1816f77c-a26e-4df9-b2cd-29bd6947f2a4",
   "metadata": {},
   "source": [
    "### Testing Other Datasets"
   ]
  },
  {
   "cell_type": "code",
   "execution_count": 90,
   "id": "655b7248-d7a0-4da3-80fa-9a8a88391fe4",
   "metadata": {
    "execution": {
     "iopub.execute_input": "2022-04-23T14:43:30.803242Z",
     "iopub.status.busy": "2022-04-23T14:43:30.802886Z",
     "iopub.status.idle": "2022-04-23T14:43:31.896727Z",
     "shell.execute_reply": "2022-04-23T14:43:31.896086Z",
     "shell.execute_reply.started": "2022-04-23T14:43:30.803215Z"
    },
    "tags": []
   },
   "outputs": [
    {
     "name": "stdout",
     "output_type": "stream",
     "text": [
      "Accuracy distinguishing IBM hardware from hockey emails = 99.62%\n"
     ]
    }
   ],
   "source": [
    "# create train set\n",
    "train_emails2 = fetch_20newsgroups(categories=['comp.sys.ibm.pc.hardware', 'rec.sport.hockey'], subset='train', shuffle=True, random_state=108)\n",
    "# create test set\n",
    "test_emails2 = fetch_20newsgroups(categories=['comp.sys.ibm.pc.hardware', 'rec.sport.hockey'], subset='test', shuffle=True, random_state=108)\n",
    "# create CountVectorizer object and train\n",
    "counter2 = CountVectorizer()\n",
    "counter2.fit(test_emails2.data, train_emails2.data)\n",
    "# make list of counts of words in training and sets\n",
    "train_counts2 = counter2.transform(train_emails2.data)\n",
    "test_counts2 = counter2.transform(test_emails2.data)\n",
    "# create object and train\n",
    "classifier2 = MultinomialNB()\n",
    "classifier2.fit(train_counts2, train_emails2.target)\n",
    "# test accuracy\n",
    "acc2 = classifier2.score(test_counts2, test_emails2.target)\n",
    "print(\"Accuracy distinguishing IBM hardware from hockey emails = {:.2f}%\".format(acc2*100))"
   ]
  },
  {
   "cell_type": "markdown",
   "id": "615821e0-46e6-4c5a-8b8e-c7359790588d",
   "metadata": {},
   "source": [
    "### Define function"
   ]
  },
  {
   "cell_type": "code",
   "execution_count": 93,
   "id": "9a9c8af5-335c-4fd5-91f3-85589ba5224f",
   "metadata": {
    "execution": {
     "iopub.execute_input": "2022-04-23T14:43:39.974572Z",
     "iopub.status.busy": "2022-04-23T14:43:39.974046Z",
     "iopub.status.idle": "2022-04-23T14:43:39.980795Z",
     "shell.execute_reply": "2022-04-23T14:43:39.979954Z",
     "shell.execute_reply.started": "2022-04-23T14:43:39.974545Z"
    },
    "tags": []
   },
   "outputs": [],
   "source": [
    "def compare_pairs(dataset1, dataset2):\n",
    "    # create train set\n",
    "    train_emails_func = fetch_20newsgroups(categories=[dataset1, dataset2], subset='train', shuffle=True, random_state=108)\n",
    "    # create test set\n",
    "    test_emails_func = fetch_20newsgroups(categories=[dataset1, dataset2], subset='test', shuffle=True, random_state=108)\n",
    "    # create CountVectorizer object and train\n",
    "    counter_func = CountVectorizer()\n",
    "    counter_func.fit(test_emails_func.data, train_emails_func.data)\n",
    "    # make list of counts of words in training and sets\n",
    "    train_counts_func = counter_func.transform(train_emails_func.data)\n",
    "    test_counts_func = counter_func.transform(test_emails_func.data)\n",
    "    # create object and train\n",
    "    classifier_func = MultinomialNB()\n",
    "    classifier_func.fit(train_counts_func, train_emails_func.target)\n",
    "    #\n",
    "    acc_func = classifier_func.score(test_counts_func, test_emails_func.target)\n",
    "    print(\"Accuracy distinguishing {} from {} emails = {:.2f}%\".format(dataset1, dataset2, acc_func*100))"
   ]
  },
  {
   "cell_type": "code",
   "execution_count": 94,
   "id": "facb4185-6444-486f-9677-6bf6b79dfda7",
   "metadata": {
    "execution": {
     "iopub.execute_input": "2022-04-23T14:43:40.332284Z",
     "iopub.status.busy": "2022-04-23T14:43:40.331998Z",
     "iopub.status.idle": "2022-04-23T14:43:41.394654Z",
     "shell.execute_reply": "2022-04-23T14:43:41.393983Z",
     "shell.execute_reply.started": "2022-04-23T14:43:40.332256Z"
    },
    "tags": []
   },
   "outputs": [
    {
     "name": "stdout",
     "output_type": "stream",
     "text": [
      "Accuracy distinguishing comp.sys.ibm.pc.hardware from rec.sport.hockey emails = 99.62%\n"
     ]
    }
   ],
   "source": [
    "# test\n",
    "compare_pairs('comp.sys.ibm.pc.hardware', 'rec.sport.hockey')"
   ]
  },
  {
   "cell_type": "markdown",
   "id": "fd05d9d8-d6ad-4362-966d-59477ec70a62",
   "metadata": {
    "execution": {
     "iopub.execute_input": "2022-04-23T14:36:52.818105Z",
     "iopub.status.busy": "2022-04-23T14:36:52.817803Z",
     "iopub.status.idle": "2022-04-23T14:36:52.823060Z",
     "shell.execute_reply": "2022-04-23T14:36:52.822201Z",
     "shell.execute_reply.started": "2022-04-23T14:36:52.818078Z"
    },
    "tags": []
   },
   "source": [
    "There are 20 possible targets, so I'll run a few random comparisons to see how they could differ:"
   ]
  },
  {
   "cell_type": "code",
   "execution_count": 95,
   "id": "8947d158-4f30-435f-93a7-ae9f0c5cd98c",
   "metadata": {
    "execution": {
     "iopub.execute_input": "2022-04-23T14:43:42.445967Z",
     "iopub.status.busy": "2022-04-23T14:43:42.445586Z",
     "iopub.status.idle": "2022-04-23T14:43:42.450665Z",
     "shell.execute_reply": "2022-04-23T14:43:42.450025Z",
     "shell.execute_reply.started": "2022-04-23T14:43:42.445940Z"
    },
    "tags": []
   },
   "outputs": [],
   "source": [
    "import random"
   ]
  },
  {
   "cell_type": "code",
   "execution_count": 96,
   "id": "c5403ae5-6c70-4ba7-97ea-f77c6d575485",
   "metadata": {
    "execution": {
     "iopub.execute_input": "2022-04-23T14:43:42.606119Z",
     "iopub.status.busy": "2022-04-23T14:43:42.605108Z",
     "iopub.status.idle": "2022-04-23T14:44:05.694445Z",
     "shell.execute_reply": "2022-04-23T14:44:05.693692Z",
     "shell.execute_reply.started": "2022-04-23T14:43:42.606087Z"
    },
    "tags": []
   },
   "outputs": [
    {
     "name": "stdout",
     "output_type": "stream",
     "text": [
      "Accuracy distinguishing talk.religion.misc from sci.med emails = 97.37%\n",
      "Accuracy distinguishing talk.politics.guns from comp.sys.mac.hardware emails = 98.53%\n",
      "Accuracy distinguishing misc.forsale from comp.graphics emails = 96.66%\n",
      "Accuracy distinguishing comp.sys.ibm.pc.hardware from rec.motorcycles emails = 99.75%\n",
      "Accuracy distinguishing comp.sys.ibm.pc.hardware from talk.religion.misc emails = 99.07%\n",
      "Accuracy distinguishing soc.religion.christian from sci.med emails = 98.49%\n",
      "Accuracy distinguishing rec.motorcycles from sci.crypt emails = 98.36%\n",
      "Accuracy distinguishing sci.space from rec.sport.baseball emails = 99.37%\n",
      "Accuracy distinguishing comp.windows.x from talk.politics.guns emails = 99.08%\n",
      "Accuracy distinguishing rec.autos from rec.sport.baseball emails = 98.87%\n",
      "Accuracy distinguishing talk.religion.misc from comp.sys.ibm.pc.hardware emails = 99.07%\n",
      "Accuracy distinguishing comp.graphics from talk.religion.misc emails = 97.50%\n",
      "Accuracy distinguishing rec.sport.baseball from misc.forsale emails = 97.84%\n",
      "Accuracy distinguishing comp.sys.ibm.pc.hardware from sci.crypt emails = 96.83%\n",
      "Accuracy distinguishing soc.religion.christian from comp.graphics emails = 98.35%\n",
      "Accuracy distinguishing rec.motorcycles from talk.religion.misc emails = 99.08%\n",
      "Accuracy distinguishing alt.atheism from talk.religion.misc emails = 84.74%\n",
      "Accuracy distinguishing rec.autos from comp.os.ms-windows.misc emails = 65.32%\n",
      "Accuracy distinguishing rec.sport.baseball from comp.sys.mac.hardware emails = 98.98%\n",
      "Accuracy distinguishing sci.crypt from alt.atheism emails = 98.74%\n"
     ]
    }
   ],
   "source": [
    "for i in range(20):\n",
    "    compare_pairs(emails.target_names[random.choice(range(20))], emails.target_names[random.choice(range(20))])"
   ]
  },
  {
   "cell_type": "markdown",
   "id": "f16fcfb8-4f45-48fe-b6da-720337314e58",
   "metadata": {},
   "source": [
    "Mostly these have really high (>97%) accuracy. Notably lower were distinguishing alt.atheism from talk.religion.misc emails (84.74%) and especially\n",
    "distinguishing rec.autos from comp.os.ms-windows.misc (65.32%)."
   ]
  }
 ],
 "metadata": {
  "kernelspec": {
   "display_name": "Python 3 (ipykernel)",
   "language": "python",
   "name": "python3"
  },
  "language_info": {
   "codemirror_mode": {
    "name": "ipython",
    "version": 3
   },
   "file_extension": ".py",
   "mimetype": "text/x-python",
   "name": "python",
   "nbconvert_exporter": "python",
   "pygments_lexer": "ipython3",
   "version": "3.9.0"
  }
 },
 "nbformat": 4,
 "nbformat_minor": 5
}
