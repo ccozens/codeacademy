{
 "cells": [
  {
   "cell_type": "markdown",
   "metadata": {},
   "source": [
    "# Off-Platform Project: Classifying Tweets\n",
    "\n",
    "In this off-platform project, you will use a Naive Bayes Classifier to find patterns in real tweets. We've given you three files: `new_york.json`, `london.json`, and `paris.json`. These three files contain tweets that we gathered from those locations.\n",
    "\n",
    "The goal is to create a classification algorithm that can classify any tweet (or sentence) and predict whether that sentence came from New York, London, or Paris."
   ]
  },
  {
   "cell_type": "markdown",
   "metadata": {},
   "source": [
    "# Investigate the Data\n",
    "\n",
    "To begin, let's take a look at the data. We've imported `new_york.json` and printed the following information:\n",
    "* The number of tweets.\n",
    "* The columns, or features, of a tweet.\n",
    "* The text of the 12th tweet in the New York dataset.\n",
    "\n",
    "Run the cell below to see the results."
   ]
  },
  {
   "cell_type": "code",
   "execution_count": 54,
   "metadata": {
    "execution": {
     "iopub.execute_input": "2022-04-24T14:56:39.297859Z",
     "iopub.status.busy": "2022-04-24T14:56:39.297571Z",
     "iopub.status.idle": "2022-04-24T14:56:40.476972Z",
     "shell.execute_reply": "2022-04-24T14:56:40.475751Z",
     "shell.execute_reply.started": "2022-04-24T14:56:39.297830Z"
    },
    "tags": []
   },
   "outputs": [
    {
     "name": "stdout",
     "output_type": "stream",
     "text": [
      "4723\n",
      "Index(['created_at', 'id', 'id_str', 'text', 'display_text_range', 'source',\n",
      "       'truncated', 'in_reply_to_status_id', 'in_reply_to_status_id_str',\n",
      "       'in_reply_to_user_id', 'in_reply_to_user_id_str',\n",
      "       'in_reply_to_screen_name', 'user', 'geo', 'coordinates', 'place',\n",
      "       'contributors', 'is_quote_status', 'quote_count', 'reply_count',\n",
      "       'retweet_count', 'favorite_count', 'entities', 'favorited', 'retweeted',\n",
      "       'filter_level', 'lang', 'timestamp_ms', 'extended_tweet',\n",
      "       'possibly_sensitive', 'quoted_status_id', 'quoted_status_id_str',\n",
      "       'quoted_status', 'quoted_status_permalink', 'extended_entities',\n",
      "       'withheld_in_countries'],\n",
      "      dtype='object')\n",
      "Be best #ThursdayThoughts\n"
     ]
    }
   ],
   "source": [
    "import pandas as pd\n",
    "\n",
    "new_york_tweets = pd.read_json(\"new_york.json\", lines=True)\n",
    "print(len(new_york_tweets))\n",
    "print(new_york_tweets.columns)\n",
    "print(new_york_tweets.loc[12][\"text\"])"
   ]
  },
  {
   "cell_type": "markdown",
   "metadata": {},
   "source": [
    "In the code block below, load the London and Paris tweets into DataFrames named `london_tweets` and `paris_tweets`.\n",
    "\n",
    "How many London tweets are there? How many Paris ones are there?"
   ]
  },
  {
   "cell_type": "code",
   "execution_count": 55,
   "metadata": {
    "execution": {
     "iopub.execute_input": "2022-04-24T14:56:40.479591Z",
     "iopub.status.busy": "2022-04-24T14:56:40.479130Z",
     "iopub.status.idle": "2022-04-24T14:56:42.418532Z",
     "shell.execute_reply": "2022-04-24T14:56:42.417711Z",
     "shell.execute_reply.started": "2022-04-24T14:56:40.479556Z"
    },
    "tags": []
   },
   "outputs": [
    {
     "name": "stdout",
     "output_type": "stream",
     "text": [
      "There are 4723 New York, 5341 London and 2510 Paris tweets\n"
     ]
    }
   ],
   "source": [
    "london_tweets = pd.read_json(\"london.json\", lines=True)\n",
    "paris_tweets = pd.read_json(\"paris.json\", lines=True)\n",
    "\n",
    "# I know it didn't ask how many New York tweets there are but I want to know\n",
    "print('There are {} New York, {} London and {} Paris tweets'.format(len(new_york_tweets), len(london_tweets), len(paris_tweets)))"
   ]
  },
  {
   "cell_type": "markdown",
   "metadata": {},
   "source": [
    "# Classifying using language: Naive Bayes Classifier\n",
    "\n",
    "We're going to create a Naive Bayes Classifier! Let's begin by looking at the way language is used differently in these three locations. Let's grab the text of all of the tweets and make it one big list. In the code block below, we've created a list of all the New York tweets. Do the same for `london_tweets` and `paris_tweets`.\n",
    "\n",
    "Then combine all three into a variable named `all_tweets` by using the `+` operator. For example, `all_tweets = new_york_text + london_text + ...`\n",
    "\n",
    "Let's also make the labels associated with those tweets. `0` represents a New York tweet, `1`  represents a London tweet, and `2` represents a Paris tweet. Finish the definition of `labels`."
   ]
  },
  {
   "cell_type": "code",
   "execution_count": 56,
   "metadata": {
    "execution": {
     "iopub.execute_input": "2022-04-24T14:56:42.419905Z",
     "iopub.status.busy": "2022-04-24T14:56:42.419655Z",
     "iopub.status.idle": "2022-04-24T14:56:42.426383Z",
     "shell.execute_reply": "2022-04-24T14:56:42.425602Z",
     "shell.execute_reply.started": "2022-04-24T14:56:42.419879Z"
    },
    "tags": []
   },
   "outputs": [],
   "source": [
    "new_york_text = new_york_tweets[\"text\"].tolist()\n",
    "london_text = london_tweets[\"text\"].tolist()\n",
    "paris_text = paris_tweets[\"text\"].tolist()\n",
    "\n",
    "all_tweets = new_york_text + london_text + paris_text\n",
    "labels = [0] * len(new_york_text) + [1] * len(london_text) + [2] * len(paris_text)"
   ]
  },
  {
   "cell_type": "markdown",
   "metadata": {},
   "source": [
    "# Making a Training and Test Set\n",
    "\n",
    "We can now break our data into a training set and a test set. We'll use scikit-learn's `train_test_split` function to do this split. This function takes two required parameters: It takes the data, followed by the labels. Set the optional parameter `test_size` to be `0.2`. Finally, set the optional parameter `random_state` to `1`. This will make it so your data is split in the same way as the data in our solution code. \n",
    "\n",
    "Remember, this function returns 4 items in this order:\n",
    "1. The training data\n",
    "2. The testing data\n",
    "3. The training labels\n",
    "4. The testing labels\n",
    "\n",
    "Store the results in variables named `train_data`, `test_data`, `train_labels`, and `test_labels`.\n",
    "\n",
    "Print the length of `train_data` and the length of `test_data`."
   ]
  },
  {
   "cell_type": "code",
   "execution_count": 57,
   "metadata": {
    "execution": {
     "iopub.execute_input": "2022-04-24T14:56:42.430948Z",
     "iopub.status.busy": "2022-04-24T14:56:42.430640Z",
     "iopub.status.idle": "2022-04-24T14:56:42.444114Z",
     "shell.execute_reply": "2022-04-24T14:56:42.443515Z",
     "shell.execute_reply.started": "2022-04-24T14:56:42.430921Z"
    },
    "tags": []
   },
   "outputs": [
    {
     "name": "stdout",
     "output_type": "stream",
     "text": [
      "Train_data length: 10059 \n",
      "Test_data length: 2515\n"
     ]
    }
   ],
   "source": [
    "from sklearn.model_selection import train_test_split\n",
    "\n",
    "train_data, test_data, train_labels, test_labels = train_test_split(all_tweets, labels, test_size=0.2, random_state=1)\n",
    "print(\"Train_data length: {} \\n\\\n",
    "Test_data length: {}\".format(len(train_data), len(test_data)))"
   ]
  },
  {
   "cell_type": "markdown",
   "metadata": {},
   "source": [
    "# Making the Count Vectors\n",
    "\n",
    "To use a Naive Bayes Classifier, we need to transform our lists of words into count vectors. Recall that this changes the sentence `\"I love New York, New York\"` into a list that contains:\n",
    "\n",
    "* Two `1`s because the words `\"I\"` and `\"love\"` each appear once.\n",
    "* Two `2`s because the words `\"New\"` and `\"York\"` each appear twice.\n",
    "* Many `0`s because every other word in the training set didn't appear at all.\n",
    "\n",
    "To start, create a `CountVectorizer` named `counter`.\n",
    "\n",
    "Next, call the `.fit()` method using `train_data` as a parameter. This teaches the counter our vocabulary.\n",
    "\n",
    "Finally, let's transform `train_data` and `test_data` into Count Vectors. Call `counter`'s `.transform()` method using `train_data` as a parameter and store the result in `train_counts`. Do the same for `test_data` and store the result in `test_counts`.\n",
    "\n",
    "Print `train_data[3]` and `train_counts[3]` to see what a tweet looks like as a Count Vector."
   ]
  },
  {
   "cell_type": "code",
   "execution_count": 58,
   "metadata": {
    "execution": {
     "iopub.execute_input": "2022-04-24T14:56:42.445782Z",
     "iopub.status.busy": "2022-04-24T14:56:42.445451Z",
     "iopub.status.idle": "2022-04-24T14:56:43.149306Z",
     "shell.execute_reply": "2022-04-24T14:56:43.147978Z",
     "shell.execute_reply.started": "2022-04-24T14:56:42.445740Z"
    },
    "tags": []
   },
   "outputs": [],
   "source": [
    "from sklearn.feature_extraction.text import CountVectorizer\n",
    "# create object\n",
    "counter = CountVectorizer()\n",
    "\n",
    "# teach obj vocab\n",
    "counter.fit(train_data)\n",
    "\n",
    "# create count objects\n",
    "train_counts = counter.transform(train_data)\n",
    "test_counts = counter.transform(test_data)"
   ]
  },
  {
   "cell_type": "code",
   "execution_count": 59,
   "metadata": {
    "execution": {
     "iopub.execute_input": "2022-04-24T14:56:43.150573Z",
     "iopub.status.busy": "2022-04-24T14:56:43.150263Z",
     "iopub.status.idle": "2022-04-24T14:56:43.154290Z",
     "shell.execute_reply": "2022-04-24T14:56:43.153570Z",
     "shell.execute_reply.started": "2022-04-24T14:56:43.150543Z"
    },
    "tags": []
   },
   "outputs": [
    {
     "name": "stdout",
     "output_type": "stream",
     "text": [
      "saying bye is hard. Especially when youre saying bye to comfort.\n"
     ]
    }
   ],
   "source": [
    "print(train_data[3])"
   ]
  },
  {
   "cell_type": "code",
   "execution_count": 60,
   "metadata": {
    "execution": {
     "iopub.execute_input": "2022-04-24T14:56:43.155729Z",
     "iopub.status.busy": "2022-04-24T14:56:43.155444Z",
     "iopub.status.idle": "2022-04-24T14:56:43.159708Z",
     "shell.execute_reply": "2022-04-24T14:56:43.159002Z",
     "shell.execute_reply.started": "2022-04-24T14:56:43.155700Z"
    },
    "tags": []
   },
   "outputs": [
    {
     "name": "stdout",
     "output_type": "stream",
     "text": [
      "  (0, 5022)\t2\n",
      "  (0, 6371)\t1\n",
      "  (0, 9552)\t1\n",
      "  (0, 12314)\t1\n",
      "  (0, 13903)\t1\n",
      "  (0, 23994)\t2\n",
      "  (0, 27146)\t1\n",
      "  (0, 29397)\t1\n",
      "  (0, 30274)\t1\n"
     ]
    }
   ],
   "source": [
    "print(train_counts[3])"
   ]
  },
  {
   "cell_type": "markdown",
   "metadata": {},
   "source": [
    "# Train and Test the Naive Bayes Classifier\n",
    "\n",
    "We now have the inputs to our classifier. Let's use the CountVectors to train and test the Naive Bayes Classifier!\n",
    "\n",
    "First, make a `MultinomialNB` named `classifier`.\n",
    "\n",
    "Next, call `classifier`'s `.fit()` method. This method takes two parameters &mdash; the training data and the training labels. `train_counts` contains the training data and `train_labels` containts the labels for that data.\n",
    "\n",
    "Calling `.fit()` calculates all of the probabilities used in Bayes Theorem. The model is now ready to quickly predict the location of a new tweet. \n",
    "\n",
    "Finally, let's test our model. `classifier`'s `.predict()` method using `test_counts` as a parameter. Store the results in a variable named `predictions`."
   ]
  },
  {
   "cell_type": "code",
   "execution_count": 61,
   "metadata": {
    "execution": {
     "iopub.execute_input": "2022-04-24T14:56:43.161537Z",
     "iopub.status.busy": "2022-04-24T14:56:43.160784Z",
     "iopub.status.idle": "2022-04-24T14:56:43.172845Z",
     "shell.execute_reply": "2022-04-24T14:56:43.172273Z",
     "shell.execute_reply.started": "2022-04-24T14:56:43.161495Z"
    },
    "tags": []
   },
   "outputs": [],
   "source": [
    "from sklearn.naive_bayes import MultinomialNB\n",
    "\n",
    "# create classifier object\n",
    "classifier = MultinomialNB()\n",
    "\n",
    "# train classifier\n",
    "classifier.fit(train_counts, train_labels)\n",
    "\n",
    "# make predictions\n",
    "predictions = classifier.predict(test_counts)"
   ]
  },
  {
   "cell_type": "markdown",
   "metadata": {},
   "source": [
    "# Evaluating Your Model\n",
    "\n",
    "Now that the classifier has made its predictions, let's see how well it did. Let's look at two different ways to do this. First, call scikit-learn's `accuracy_score` function. This function should take two parameters &mdash;  the `test_labels` and your `predictions`. Print the results. This prints the percentage of tweets in the test set that the classifier correctly classified.\n",
    "\n"
   ]
  },
  {
   "cell_type": "code",
   "execution_count": 62,
   "metadata": {
    "execution": {
     "iopub.execute_input": "2022-04-24T14:56:43.173814Z",
     "iopub.status.busy": "2022-04-24T14:56:43.173666Z",
     "iopub.status.idle": "2022-04-24T14:56:43.179937Z",
     "shell.execute_reply": "2022-04-24T14:56:43.179052Z",
     "shell.execute_reply.started": "2022-04-24T14:56:43.173794Z"
    },
    "tags": []
   },
   "outputs": [
    {
     "name": "stdout",
     "output_type": "stream",
     "text": [
      "67.79% tweets accurately classified\n"
     ]
    }
   ],
   "source": [
    "from sklearn.metrics import accuracy_score\n",
    "\n",
    "#print accuracy\n",
    "accuracy = accuracy_score(test_labels, predictions)\n",
    "print(\"{:.2f}% tweets accurately classified\".format(accuracy*100))"
   ]
  },
  {
   "cell_type": "markdown",
   "metadata": {},
   "source": [
    "The other way you can evaluate your model is by looking at the **confusion matrix**. A confusion matrix is a table that describes how your classifier made its predictions. For example, if there were two labels, A and B, a confusion matrix might look like this:\n",
    "\n",
    "```\n",
    "9 1\n",
    "3 5\n",
    "```\n",
    "\n",
    "In this example, the first row shows how the classifier classified the true A's. It guessed that 9 of them were A's and 1 of them was a B. The second row shows how the classifier did on the true B's. It guessed that 3 of them were A's and 5 of them were B's.\n",
    "\n",
    "For our project using tweets, there were three classes &mdash; `0` for New York, `1` for London, and `2` for Paris. You can see the confustion matrix by printing the result of the `confusion_matrix` function using `test_labels` and `predictions` as parameters."
   ]
  },
  {
   "cell_type": "code",
   "execution_count": 63,
   "metadata": {
    "execution": {
     "iopub.execute_input": "2022-04-24T14:56:43.184219Z",
     "iopub.status.busy": "2022-04-24T14:56:43.183806Z",
     "iopub.status.idle": "2022-04-24T14:56:43.191461Z",
     "shell.execute_reply": "2022-04-24T14:56:43.190723Z",
     "shell.execute_reply.started": "2022-04-24T14:56:43.184160Z"
    },
    "tags": []
   },
   "outputs": [
    {
     "name": "stdout",
     "output_type": "stream",
     "text": [
      "[[541 404  28]\n",
      " [203 824  34]\n",
      " [ 38 103 340]]\n"
     ]
    }
   ],
   "source": [
    "from sklearn.metrics import confusion_matrix\n",
    "\n",
    "# print confusion_matrix\n",
    "matrix = confusion_matrix(test_labels, predictions)\n",
    "print(matrix)"
   ]
  },
  {
   "cell_type": "code",
   "execution_count": 64,
   "metadata": {
    "execution": {
     "iopub.execute_input": "2022-04-24T14:56:43.192586Z",
     "iopub.status.busy": "2022-04-24T14:56:43.192258Z",
     "iopub.status.idle": "2022-04-24T14:56:43.423594Z",
     "shell.execute_reply": "2022-04-24T14:56:43.422561Z",
     "shell.execute_reply.started": "2022-04-24T14:56:43.192562Z"
    },
    "tags": []
   },
   "outputs": [
    {
     "data": {
      "image/png": "[encoded data removed]",
      "text/plain": [
       "<Figure size 576x432 with 2 Axes>"
      ]
     },
     "metadata": {},
     "output_type": "display_data"
    }
   ],
   "source": [
    "import seaborn as sns\n",
    "import numpy as np\n",
    "from matplotlib import pyplot as plt\n",
    "\n",
    "# plot confusion matrix\n",
    "\n",
    "# Get and reshape confusion matrix data - assumes confusion matrix already calculated\n",
    "matrix = matrix.astype('float') / matrix.sum(axis=1)[:, np.newaxis]\n",
    "\n",
    "# Build the plot\n",
    "plt.figure(figsize=(8,6))\n",
    "sns.set(font_scale=1.4)\n",
    "sns.heatmap(matrix, annot=True, annot_kws={'size':10},\n",
    "            cmap=plt.cm.Greens, linewidths=0.2)\n",
    "\n",
    "# Add labels to the plot\n",
    "class_names = ['New York', 'London', 'Paris']\n",
    "plt.xticks(ticks=[0.5, 1.5, 2.5], labels=class_names)\n",
    "plt.yticks(ticks=[0.5, 1.5, 2.5], labels=class_names)\n",
    "plt.xlabel('Predicted label')\n",
    "plt.ylabel('True label')\n",
    "plt.title('Confusion matrix for tweet location prediction')\n",
    "plt.show()"
   ]
  },
  {
   "cell_type": "markdown",
   "metadata": {},
   "source": [
    "# Test Your Own Tweet\n",
    "\n",
    "Nice work! The confusion matrix should line up with your intuition. The classifier predicts tweets that were actually from New York as either New York tweets or London tweets, but almost never Paris tweets. Similarly, the classifier rarely misclassifies the tweets that were actually from Paris. Tweets coming from two English speaking countries are harder to distinguish than tweets in different languages.\n",
    "\n",
    "Now it's your chance to write a tweet and see how the classifier works! Create a string and store it in a variable named `tweet`. \n",
    "\n",
    "Call `counter`'s `.transform()` method using `[tweet]` as a parameter. Save the result as `tweet_counts`. Notice that your variable has to be in an array &mdash; `.transform()` can't take just a string, it must be a list. \n",
    "\n",
    "Finally, pass `tweet_counts` as parameter to `classifier`'s `.predict()` method. Print the result. This should give you the prediction for the tweet. Remember a `0` represents New York, a `1` represents London, and a `2` represents Paris. Can you write different tweets that the classifier predicts as being from New York, London, and Paris?"
   ]
  },
  {
   "cell_type": "code",
   "execution_count": 65,
   "metadata": {
    "execution": {
     "iopub.execute_input": "2022-04-24T14:56:43.425297Z",
     "iopub.status.busy": "2022-04-24T14:56:43.424959Z",
     "iopub.status.idle": "2022-04-24T14:56:43.429730Z",
     "shell.execute_reply": "2022-04-24T14:56:43.428955Z",
     "shell.execute_reply.started": "2022-04-24T14:56:43.425270Z"
    },
    "tags": []
   },
   "outputs": [],
   "source": [
    "columbia = \"This #EarthDay, we celebrate the arrival of two new Columbians and the dozens of names suggested by you for their parents! We've narrowed them down to three—which one grabs you most? https://bit.ly/3LfhZhy  @CC_Columbia @BirdCentralPark\"\n",
    "imperial = \"#OnThisDay 1970: The first #EarthDay was celebrated to demonstrate support for environmental protection. Happy Earth Day! 🌍\"\n",
    "sorbonne = \"#EarthDay 🌍 Contribuez à l'inventaire des plantes et animaux d'Île-de-France en participant au défi \\\"Nature Urbaine Paris Île-de-France\\\" du 29 avril au 2 mai 👉 https://swll.to/VibqZ\""
   ]
  },
  {
   "cell_type": "code",
   "execution_count": 66,
   "metadata": {
    "execution": {
     "iopub.execute_input": "2022-04-24T14:56:43.431592Z",
     "iopub.status.busy": "2022-04-24T14:56:43.431160Z",
     "iopub.status.idle": "2022-04-24T14:56:43.436413Z",
     "shell.execute_reply": "2022-04-24T14:56:43.435539Z",
     "shell.execute_reply.started": "2022-04-24T14:56:43.431564Z"
    },
    "tags": []
   },
   "outputs": [],
   "source": [
    "tweet_counts = counter.transform([columbia, imperial, sorbonne])"
   ]
  },
  {
   "cell_type": "code",
   "execution_count": 67,
   "metadata": {
    "execution": {
     "iopub.execute_input": "2022-04-24T14:56:43.438116Z",
     "iopub.status.busy": "2022-04-24T14:56:43.437710Z",
     "iopub.status.idle": "2022-04-24T14:56:43.445463Z",
     "shell.execute_reply": "2022-04-24T14:56:43.444327Z",
     "shell.execute_reply.started": "2022-04-24T14:56:43.438092Z"
    },
    "tags": []
   },
   "outputs": [
    {
     "data": {
      "text/plain": [
       "array([0, 0, 2])"
      ]
     },
     "execution_count": 67,
     "metadata": {},
     "output_type": "execute_result"
    }
   ],
   "source": [
    "classifier.predict(tweet_counts)"
   ]
  },
  {
   "cell_type": "code",
   "execution_count": 68,
   "metadata": {
    "execution": {
     "iopub.execute_input": "2022-04-24T14:56:43.447540Z",
     "iopub.status.busy": "2022-04-24T14:56:43.447032Z",
     "iopub.status.idle": "2022-04-24T14:56:43.453331Z",
     "shell.execute_reply": "2022-04-24T14:56:43.452664Z",
     "shell.execute_reply.started": "2022-04-24T14:56:43.447514Z"
    },
    "tags": []
   },
   "outputs": [
    {
     "data": {
      "text/plain": [
       "array([[5.85286583e-01, 4.14713417e-01, 1.97660188e-22],\n",
       "       [7.67375990e-01, 2.32624005e-01, 4.76509993e-09],\n",
       "       [9.78996140e-21, 2.29823901e-20, 1.00000000e+00]])"
      ]
     },
     "execution_count": 68,
     "metadata": {},
     "output_type": "execute_result"
    }
   ],
   "source": [
    "classifier.predict_proba(tweet_counts)"
   ]
  },
  {
   "cell_type": "markdown",
   "metadata": {},
   "source": [
    "Here, 'columbia' is a tweet from Columbia University (New York), 'imperial' is from Imperial College London (London), and 'sorbonne' is from Sorbonne Université (Paris). All are about Earth Day, which is a coincidence related to when I'm doing this project.\n",
    "As a reminder:  \n",
    "0 = New York\n",
    "1 = London\n",
    "2 = Paris.\n",
    "\n",
    "So, given 'classifier.predict' gives [0, 0, 2], it is correctly classifying 'columbia' and 'paris', and miss-classifying 'imperial' as New York. Looking at the probabilities given by 'predict-proba', it isn't even a close miss-call (77% chance it is from New York vs 23% chance it is from London, and negligible chance it is from Paris).\n",
    "\n",
    "I'll re-run with some non-Earth Day tweets from the week before:"
   ]
  },
  {
   "cell_type": "code",
   "execution_count": 69,
   "metadata": {
    "execution": {
     "iopub.execute_input": "2022-04-24T14:56:43.456079Z",
     "iopub.status.busy": "2022-04-24T14:56:43.455842Z",
     "iopub.status.idle": "2022-04-24T14:56:43.460302Z",
     "shell.execute_reply": "2022-04-24T14:56:43.459496Z",
     "shell.execute_reply.started": "2022-04-24T14:56:43.456056Z"
    },
    "tags": []
   },
   "outputs": [],
   "source": [
    "columbia2 = \"Carla Hayden, the 14th Librarian of Congress, will receive an honorary Doctor of Letters degree. https://bit.ly/3JM9skn  @LibnOfCongress\"\n",
    "imperial2 = \"Our Undergraduate Open Days are back! We're pleased to welcome you to our South Kensington Campus on Wednesday 29 and Thursday 30 June. Discover more about life at Imperial. Register your interest here and be the first to know when bookings go live ⤵️ http://ow.ly/EaPY50IHvTQ\" \n",
    "sorbonne2 = \"🤔Saviez-vous que l'acoustique de #NotreDame a été en partie détruite lors de l'incendie survenu il y a 3 ans, le 15 avril 2019 ? Mais comment retrouver l'#acoustique réverbérante propre à la cathédrale ? Réponse de Brian Katz, acousticien  @LAM_dAlembert ➡️https://swll.to/fBWQmcb\""
   ]
  },
  {
   "cell_type": "code",
   "execution_count": 70,
   "metadata": {
    "execution": {
     "iopub.execute_input": "2022-04-24T14:56:43.461874Z",
     "iopub.status.busy": "2022-04-24T14:56:43.461292Z",
     "iopub.status.idle": "2022-04-24T14:56:43.468582Z",
     "shell.execute_reply": "2022-04-24T14:56:43.467836Z",
     "shell.execute_reply.started": "2022-04-24T14:56:43.461814Z"
    },
    "tags": []
   },
   "outputs": [
    {
     "data": {
      "text/plain": [
       "array([1, 1, 2])"
      ]
     },
     "execution_count": 70,
     "metadata": {},
     "output_type": "execute_result"
    }
   ],
   "source": [
    "tweet_counts2 = counter.transform([columbia2, imperial2, sorbonne2])\n",
    "classifier.predict(tweet_counts2)"
   ]
  },
  {
   "cell_type": "markdown",
   "metadata": {},
   "source": [
    "Wrong again! This time:  \n",
    "New York -> London\n",
    "London -> London\n",
    "Paris -> Paris"
   ]
  }
 ],
 "metadata": {
  "kernelspec": {
   "display_name": "Python 3 (ipykernel)",
   "language": "python",
   "name": "python3"
  },
  "language_info": {
   "codemirror_mode": {
    "name": "ipython",
    "version": 3
   },
   "file_extension": ".py",
   "mimetype": "text/x-python",
   "name": "python",
   "nbconvert_exporter": "python",
   "pygments_lexer": "ipython3",
   "version": "3.9.0"
  }
 },
 "nbformat": 4,
 "nbformat_minor": 4
}
