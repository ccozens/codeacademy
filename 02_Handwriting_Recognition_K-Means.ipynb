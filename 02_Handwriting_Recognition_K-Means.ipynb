{
 "cells": [
  {
   "cell_type": "markdown",
   "id": "dfd93cd5-37fd-4da3-abb5-582eff6b234c",
   "metadata": {},
   "source": [
    "# Handwriting Recognition using K-Means\n",
    "The U.S. Postal Service has been using machine learning and scanning technologies since 1999. Because its postal offices have to look at roughly half a billion pieces of mail every day, they have done extensive research and developed very efficient algorithms for reading and understanding addresses. And not only the post office:\n",
    "\n",
    "ATMs can recognize handwritten bank checks\n",
    "Evernote can recognize handwritten task lists\n",
    "Expensify can recognize handwritten receipts\n",
    "But how do they do it?\n",
    "\n",
    "In this project, you will be using K-means clustering (the algorithm behind this magic) and scikit-learn to cluster images of handwritten digits"
   ]
  },
  {
   "cell_type": "code",
   "execution_count": 1,
   "id": "8531c9ee-86fa-4fa5-89c0-9dee3117a87c",
   "metadata": {
    "execution": {
     "iopub.execute_input": "2022-04-25T09:39:53.480965Z",
     "iopub.status.busy": "2022-04-25T09:39:53.480334Z",
     "iopub.status.idle": "2022-04-25T09:39:54.804013Z",
     "shell.execute_reply": "2022-04-25T09:39:54.803138Z",
     "shell.execute_reply.started": "2022-04-25T09:39:53.480877Z"
    }
   },
   "outputs": [],
   "source": [
    "# imports\n",
    "import numpy as np\n",
    "from matplotlib import pyplot as plt\n",
    "import pandas as pd\n",
    "from sklearn.cluster import KMeans\n",
    "from sklearn import datasets"
   ]
  },
  {
   "cell_type": "code",
   "execution_count": 4,
   "id": "4395b89a-f4b0-4b32-b5c8-8cccee84d832",
   "metadata": {
    "execution": {
     "iopub.execute_input": "2022-04-25T09:40:21.252548Z",
     "iopub.status.busy": "2022-04-25T09:40:21.252238Z",
     "iopub.status.idle": "2022-04-25T09:40:21.336817Z",
     "shell.execute_reply": "2022-04-25T09:40:21.336097Z",
     "shell.execute_reply.started": "2022-04-25T09:40:21.252502Z"
    },
    "tags": []
   },
   "outputs": [
    {
     "name": "stdout",
     "output_type": "stream",
     "text": [
      ".. _digits_dataset:\n",
      "\n",
      "Optical recognition of handwritten digits dataset\n",
      "--------------------------------------------------\n",
      "\n",
      "**Data Set Characteristics:**\n",
      "\n",
      "    :Number of Instances: 1797\n",
      "    :Number of Attributes: 64\n",
      "    :Attribute Information: 8x8 image of integer pixels in the range 0..16.\n",
      "    :Missing Attribute Values: None\n",
      "    :Creator: E. Alpaydin (alpaydin '@' boun.edu.tr)\n",
      "    :Date: July; 1998\n",
      "\n",
      "This is a copy of the test set of the UCI ML hand-written digits datasets\n",
      "https://archive.ics.uci.edu/ml/datasets/Optical+Recognition+of+Handwritten+Digits\n",
      "\n",
      "The data set contains images of hand-written digits: 10 classes where\n",
      "each class refers to a digit.\n",
      "\n",
      "Preprocessing programs made available by NIST were used to extract\n",
      "normalized bitmaps of handwritten digits from a preprinted form. From a\n",
      "total of 43 people, 30 contributed to the training set and different 13\n",
      "to the test set. 32x32 bitmaps are divided into nonoverlapping blocks of\n",
      "4x4 and the number of on pixels are counted in each block. This generates\n",
      "an input matrix of 8x8 where each element is an integer in the range\n",
      "0..16. This reduces dimensionality and gives invariance to small\n",
      "distortions.\n",
      "\n",
      "For info on NIST preprocessing routines, see M. D. Garris, J. L. Blue, G.\n",
      "T. Candela, D. L. Dimmick, J. Geist, P. J. Grother, S. A. Janet, and C.\n",
      "L. Wilson, NIST Form-Based Handprint Recognition System, NISTIR 5469,\n",
      "1994.\n",
      "\n",
      ".. topic:: References\n",
      "\n",
      "  - C. Kaynak (1995) Methods of Combining Multiple Classifiers and Their\n",
      "    Applications to Handwritten Digit Recognition, MSc Thesis, Institute of\n",
      "    Graduate Studies in Science and Engineering, Bogazici University.\n",
      "  - E. Alpaydin, C. Kaynak (1998) Cascading Classifiers, Kybernetika.\n",
      "  - Ken Tang and Ponnuthurai N. Suganthan and Xi Yao and A. Kai Qin.\n",
      "    Linear dimensionalityreduction using relevance weighted LDA. School of\n",
      "    Electrical and Electronic Engineering Nanyang Technological University.\n",
      "    2005.\n",
      "  - Claudio Gentile. A New Approximate Maximal Margin Classification\n",
      "    Algorithm. NIPS. 2000.\n",
      "\n"
     ]
    }
   ],
   "source": [
    "# load data\n",
    "digits = datasets.load_digits()\n",
    "print(digits.DESCR)"
   ]
  },
  {
   "cell_type": "code",
   "execution_count": 6,
   "id": "c5e68b3b-2aa0-40bf-8d92-f2ca825a64d3",
   "metadata": {
    "execution": {
     "iopub.execute_input": "2022-04-25T09:41:01.540882Z",
     "iopub.status.busy": "2022-04-25T09:41:01.540614Z",
     "iopub.status.idle": "2022-04-25T09:41:01.546948Z",
     "shell.execute_reply": "2022-04-25T09:41:01.546257Z",
     "shell.execute_reply.started": "2022-04-25T09:41:01.540857Z"
    },
    "tags": []
   },
   "outputs": [
    {
     "data": {
      "text/plain": [
       "array([[ 0.,  0.,  5., ...,  0.,  0.,  0.],\n",
       "       [ 0.,  0.,  0., ..., 10.,  0.,  0.],\n",
       "       [ 0.,  0.,  0., ..., 16.,  9.,  0.],\n",
       "       ...,\n",
       "       [ 0.,  0.,  1., ...,  6.,  0.,  0.],\n",
       "       [ 0.,  0.,  2., ..., 12.,  0.,  0.],\n",
       "       [ 0.,  0., 10., ..., 12.,  1.,  0.]])"
      ]
     },
     "execution_count": 6,
     "metadata": {},
     "output_type": "execute_result"
    }
   ],
   "source": [
    "# look at the data\n",
    "digits.data"
   ]
  },
  {
   "cell_type": "code",
   "execution_count": 8,
   "id": "4c308343-9215-427d-9555-b6ad32913669",
   "metadata": {
    "execution": {
     "iopub.execute_input": "2022-04-25T09:41:21.810329Z",
     "iopub.status.busy": "2022-04-25T09:41:21.809806Z",
     "iopub.status.idle": "2022-04-25T09:41:21.815436Z",
     "shell.execute_reply": "2022-04-25T09:41:21.814714Z",
     "shell.execute_reply.started": "2022-04-25T09:41:21.810299Z"
    },
    "tags": []
   },
   "outputs": [
    {
     "data": {
      "text/plain": [
       "array([0, 1, 2, ..., 8, 9, 8])"
      ]
     },
     "execution_count": 8,
     "metadata": {},
     "output_type": "execute_result"
    }
   ],
   "source": [
    "# look at targets\n",
    "digits.target"
   ]
  },
  {
   "cell_type": "code",
   "execution_count": 9,
   "id": "06332f41-4a25-4c2e-b42d-3eb85f8bd039",
   "metadata": {
    "execution": {
     "iopub.execute_input": "2022-04-25T09:41:45.534816Z",
     "iopub.status.busy": "2022-04-25T09:41:45.534522Z",
     "iopub.status.idle": "2022-04-25T09:41:45.730921Z",
     "shell.execute_reply": "2022-04-25T09:41:45.730005Z",
     "shell.execute_reply.started": "2022-04-25T09:41:45.534784Z"
    }
   },
   "outputs": [
    {
     "data": {
      "text/plain": [
       "<Figure size 432x288 with 0 Axes>"
      ]
     },
     "metadata": {},
     "output_type": "display_data"
    },
    {
     "data": {
      "image/png": "[encoded data removed]",
      "text/plain": [
       "<Figure size 288x288 with 1 Axes>"
      ]
     },
     "metadata": {
      "needs_background": "light"
     },
     "output_type": "display_data"
    }
   ],
   "source": [
    "# visualise a datapoint\n",
    "plt.gray() \n",
    "plt.matshow(digits.images[100])\n",
    " \n",
    "plt.show()"
   ]
  },
  {
   "cell_type": "code",
   "execution_count": 10,
   "id": "1f481b37-6946-4794-8a53-d9e06200baba",
   "metadata": {
    "execution": {
     "iopub.execute_input": "2022-04-25T09:42:01.543139Z",
     "iopub.status.busy": "2022-04-25T09:42:01.542843Z",
     "iopub.status.idle": "2022-04-25T09:42:01.547556Z",
     "shell.execute_reply": "2022-04-25T09:42:01.546244Z",
     "shell.execute_reply.started": "2022-04-25T09:42:01.543108Z"
    }
   },
   "outputs": [
    {
     "name": "stdout",
     "output_type": "stream",
     "text": [
      "4\n"
     ]
    }
   ],
   "source": [
    "# check what it is \n",
    "print(digits.target[100])"
   ]
  },
  {
   "cell_type": "code",
   "execution_count": 12,
   "id": "e86a2f58-b0ba-4bb0-a619-9b25655b5425",
   "metadata": {
    "execution": {
     "iopub.execute_input": "2022-04-25T09:42:30.045628Z",
     "iopub.status.busy": "2022-04-25T09:42:30.045308Z",
     "iopub.status.idle": "2022-04-25T09:42:32.578804Z",
     "shell.execute_reply": "2022-04-25T09:42:32.577799Z",
     "shell.execute_reply.started": "2022-04-25T09:42:30.045601Z"
    },
    "tags": []
   },
   "outputs": [
    {
     "data": {
      "image/png": "[encoded data removed]",
      "text/plain": [
       "<Figure size 432x432 with 64 Axes>"
      ]
     },
     "metadata": {},
     "output_type": "display_data"
    }
   ],
   "source": [
    "# plot all 64 images\n",
    "\n",
    "# Figure size (width, height)\n",
    " \n",
    "fig = plt.figure(figsize=(6, 6))\n",
    " \n",
    "# Adjust the subplots \n",
    " \n",
    "fig.subplots_adjust(left=0, right=1, bottom=0, top=1, hspace=0.05, wspace=0.05)\n",
    " \n",
    "# For each of the 64 images\n",
    " \n",
    "for i in range(64):\n",
    " \n",
    "    # Initialize the subplots: add a subplot in the grid of 8 by 8, at the i+1-th position\n",
    " \n",
    "    ax = fig.add_subplot(8, 8, i+1, xticks=[], yticks=[])\n",
    " \n",
    "    # Display an image at the i-th position\n",
    " \n",
    "    ax.imshow(digits.images[i], cmap=plt.cm.binary, interpolation='nearest')\n",
    " \n",
    "    # Label the image with the target value\n",
    " \n",
    "    ax.text(0, 7, str(digits.target[i]))\n",
    " \n",
    "plt.show()"
   ]
  },
  {
   "cell_type": "markdown",
   "id": "9f946996-893d-4e10-a6e5-41f3a2526d26",
   "metadata": {},
   "source": [
    "## K-Means Clustering\n",
    "\n",
    "There are 10 digits and so there will be 10 clusters. However, for interest I'll run a test to see what happens to accuracy with higher k: "
   ]
  },
  {
   "cell_type": "code",
   "execution_count": 67,
   "id": "187580dc-d5b6-4c23-bca7-a255747d197a",
   "metadata": {
    "execution": {
     "iopub.execute_input": "2022-04-25T11:03:50.027904Z",
     "iopub.status.busy": "2022-04-25T11:03:50.027579Z",
     "iopub.status.idle": "2022-04-25T11:03:50.035070Z",
     "shell.execute_reply": "2022-04-25T11:03:50.034141Z",
     "shell.execute_reply.started": "2022-04-25T11:03:50.027870Z"
    },
    "tags": []
   },
   "outputs": [],
   "source": [
    "# define function to find best k\n",
    "def find_k(data, k):\n",
    "    # create lists\n",
    "    num_clusters = list(range(1, (k+1)))\n",
    "    inertias = []\n",
    "\n",
    "    # calc K-means for each number of clusters\n",
    "    for num in num_clusters:\n",
    "        kmean = KMeans(n_clusters = num)\n",
    "        kmean.fit(data)\n",
    "        # calc inertia\n",
    "        inertias.append([k, kmean.inertia_])\n",
    "\n",
    "    # plot\n",
    "    # create y values\n",
    "    y_val = [x[1] for x in inertias]\n",
    "    \n",
    "    plt.plot(num_clusters, y_val, '-o')\n",
    "    \n",
    "    plt.title('Inertia plot')\n",
    "    plt.xlabel('Number of Clusters (k)')\n",
    "    plt.ylabel('Inertia')\n",
    " \n",
    "    plt.show()\n",
    "    \n",
    "    # sort and print best values\n",
    "    # print out best 3\n",
    "    inertias_sorted = sorted(inertias, key=lambda x : x[1], reverse=False)\n",
    "    print('Lowest inertia: {:.3f} at k= {}'.format(inertias_sorted[0][1], inertias_sorted[0][0]))"
   ]
  },
  {
   "cell_type": "code",
   "execution_count": 68,
   "id": "4f38e281-1e32-43ed-8d58-b9b754f47d6c",
   "metadata": {
    "execution": {
     "iopub.execute_input": "2022-04-25T11:03:53.344249Z",
     "iopub.status.busy": "2022-04-25T11:03:53.343912Z",
     "iopub.status.idle": "2022-04-25T11:04:37.673996Z",
     "shell.execute_reply": "2022-04-25T11:04:37.673079Z",
     "shell.execute_reply.started": "2022-04-25T11:03:53.344193Z"
    },
    "tags": []
   },
   "outputs": [
    {
     "data": {
      "image/png": "[encoded data removed]",
      "text/plain": [
       "<Figure size 432x288 with 1 Axes>"
      ]
     },
     "metadata": {
      "needs_background": "light"
     },
     "output_type": "display_data"
    },
    {
     "name": "stdout",
     "output_type": "stream",
     "text": [
      "Lowest inertia: 567184.950 at k= 100\n"
     ]
    }
   ],
   "source": [
    "find_k(digits.data, 100)"
   ]
  },
  {
   "cell_type": "markdown",
   "id": "e02b4dc0-0693-47e8-ae40-e36220dfe0dc",
   "metadata": {},
   "source": [
    "So, k accuracy improves but not to any great degree, and there's never a clear elbow. I'll train with k=10 now:"
   ]
  },
  {
   "cell_type": "code",
   "execution_count": 86,
   "id": "57980839-b38b-4cbe-8c7d-6250d85ab726",
   "metadata": {
    "execution": {
     "iopub.execute_input": "2022-04-25T11:19:52.498723Z",
     "iopub.status.busy": "2022-04-25T11:19:52.498461Z",
     "iopub.status.idle": "2022-04-25T11:19:52.707693Z",
     "shell.execute_reply": "2022-04-25T11:19:52.706795Z",
     "shell.execute_reply.started": "2022-04-25T11:19:52.498695Z"
    },
    "tags": []
   },
   "outputs": [
    {
     "data": {
      "text/plain": [
       "1165760.3769053381"
      ]
     },
     "execution_count": 86,
     "metadata": {},
     "output_type": "execute_result"
    }
   ],
   "source": [
    "# train model using k\n",
    "kmean = KMeans(n_clusters = 10)\n",
    "kmean.fit(digits.data)\n",
    "kmean.inertia_"
   ]
  },
  {
   "cell_type": "markdown",
   "id": "786a8470-83e2-4c48-ac9c-1a3c19fa8830",
   "metadata": {},
   "source": [
    "## Visualizing after K-Means\n",
    "\n",
    "for loop below from CA. Note:\n",
    "1. sckitlearn calls centroids cluster_centers_\n",
    "2. The cluster centers should be a list with 64 values (0-16). Here, we are making each of the cluster centers into an 8x8 2D array."
   ]
  },
  {
   "cell_type": "code",
   "execution_count": 70,
   "id": "f020448b-d844-4739-81d0-ad6a9de815af",
   "metadata": {
    "execution": {
     "iopub.execute_input": "2022-04-25T11:04:37.875338Z",
     "iopub.status.busy": "2022-04-25T11:04:37.874722Z",
     "iopub.status.idle": "2022-04-25T11:04:38.669329Z",
     "shell.execute_reply": "2022-04-25T11:04:38.668300Z",
     "shell.execute_reply.started": "2022-04-25T11:04:37.875295Z"
    },
    "tags": []
   },
   "outputs": [
    {
     "data": {
      "image/png": "[encoded data removed]",
      "text/plain": [
       "<Figure size 576x216 with 10 Axes>"
      ]
     },
     "metadata": {
      "needs_background": "light"
     },
     "output_type": "display_data"
    }
   ],
   "source": [
    "fig = plt.figure(figsize=(8, 3))\n",
    "plt.suptitle('Cluser Center Images')\n",
    "\n",
    "             \n",
    "for i in range(10):\n",
    "  # Initialize subplots in a grid of 2X5, at i+1th position\n",
    "  ax = fig.add_subplot(2, 5, 1 + i)\n",
    "  # Display images\n",
    "  ax.imshow(kmean.cluster_centers_[i].reshape((8, 8)), cmap=plt.cm.binary)\n",
    "\n",
    "plt.show()"
   ]
  },
  {
   "cell_type": "markdown",
   "id": "ea522bcf-ca0d-4b76-b565-4158452d8725",
   "metadata": {},
   "source": [
    "### Make prediction\n",
    "\n",
    "Prediction using images drawn in codeacademy. Arrays:"
   ]
  },
  {
   "cell_type": "code",
   "execution_count": 71,
   "id": "9247a6b9-25bd-4477-8438-62093a18a8a3",
   "metadata": {
    "execution": {
     "iopub.execute_input": "2022-04-25T11:05:30.235834Z",
     "iopub.status.busy": "2022-04-25T11:05:30.235300Z",
     "iopub.status.idle": "2022-04-25T11:05:30.249662Z",
     "shell.execute_reply": "2022-04-25T11:05:30.248791Z",
     "shell.execute_reply.started": "2022-04-25T11:05:30.235804Z"
    },
    "tags": []
   },
   "outputs": [],
   "source": [
    "new_samples = np.array([\n",
    "[0.00,0.00,0.00,0.00,0.00,0.00,0.00,0.00,0.00,1.68,4.42,4.27,2.82,0.00,0.00,0.00,0.00,6.03,7.17,7.09,7.62,2.82,0.00,0.00,0.00,0.84,0.54,0.08,6.33,5.95,0.00,0.00,0.00,0.00,0.00,0.00,4.65,6.86,0.00,0.00,0.00,0.00,0.00,1.22,7.17,5.34,0.00,0.00,0.00,3.82,6.25,7.55,7.62,7.17,6.79,0.99,0.00,2.75,5.11,5.41,6.10,4.80,3.74,0.38],\n",
    "[0.00,0.00,0.00,0.00,0.00,0.00,0.00,0.00,1.37,3.81,3.81,3.44,0.46,0.00,0.00,0.00,4.12,7.40,6.94,7.63,5.56,0.00,0.00,0.00,0.00,0.00,0.00,3.43,7.62,2.14,0.00,0.00,0.00,0.00,0.00,0.46,7.62,3.81,0.00,0.00,1.60,2.75,4.11,6.41,7.55,2.52,0.00,0.00,6.64,7.62,7.62,7.62,7.62,7.62,1.30,0.00,0.54,1.53,2.14,2.36,3.05,2.97,0.23,0.00],\n",
    "[0.00,0.00,0.00,1.60,0.69,0.00,0.00,0.00,0.00,0.00,0.61,7.32,3.81,0.00,0.00,0.00,0.00,0.00,4.04,7.55,1.45,0.00,0.00,0.00,0.00,1.22,7.40,5.04,0.00,0.00,0.00,0.00,0.00,5.64,7.02,0.61,2.29,4.35,0.00,0.00,2.29,7.62,3.13,0.00,6.48,6.10,0.00,0.31,4.42,7.62,6.25,6.18,7.62,6.86,6.33,7.32,1.83,4.57,4.57,4.88,7.62,5.49,4.57,4.04],\n",
    "[0.00,0.00,0.00,0.00,0.00,0.00,0.00,0.00,0.00,2.59,3.81,3.81,3.35,1.22,0.00,0.00,4.65,7.62,7.09,7.17,7.62,7.55,0.61,0.00,7.63,4.88,0.15,0.00,4.96,7.63,0.08,0.00,6.41,7.02,3.13,4.80,7.63,4.58,0.00,0.00,2.29,7.62,7.62,7.62,7.32,1.22,0.00,0.00,2.97,7.62,5.80,5.11,7.62,5.19,0.00,0.00,0.46,5.87,7.62,7.62,7.55,3.51,0.00,0.00]\n",
    "])"
   ]
  },
  {
   "cell_type": "code",
   "execution_count": 72,
   "id": "b0d2ee91-8cd0-4393-9aab-edeed8ded0ad",
   "metadata": {
    "execution": {
     "iopub.execute_input": "2022-04-25T11:05:34.976076Z",
     "iopub.status.busy": "2022-04-25T11:05:34.975754Z",
     "iopub.status.idle": "2022-04-25T11:05:34.981276Z",
     "shell.execute_reply": "2022-04-25T11:05:34.980383Z",
     "shell.execute_reply.started": "2022-04-25T11:05:34.976041Z"
    },
    "tags": []
   },
   "outputs": [],
   "source": [
    "new_labels = kmean.predict(new_samples)"
   ]
  },
  {
   "cell_type": "code",
   "execution_count": 73,
   "id": "c6e58ea7-7282-47ff-8bbe-b27f06ad7885",
   "metadata": {
    "execution": {
     "iopub.execute_input": "2022-04-25T11:05:35.184456Z",
     "iopub.status.busy": "2022-04-25T11:05:35.184091Z",
     "iopub.status.idle": "2022-04-25T11:05:35.192166Z",
     "shell.execute_reply": "2022-04-25T11:05:35.191330Z",
     "shell.execute_reply.started": "2022-04-25T11:05:35.184419Z"
    },
    "tags": []
   },
   "outputs": [
    {
     "name": "stdout",
     "output_type": "stream",
     "text": [
      "2250"
     ]
    }
   ],
   "source": [
    "# map label indices to actual digits\n",
    "\n",
    "for i in range(len(new_labels)):\n",
    "    if new_labels[i] == 0:\n",
    "        print(0, end='')\n",
    "    elif new_labels[i] == 1:\n",
    "        print(9, end='')\n",
    "    elif new_labels[i] == 2:\n",
    "        print(2, end='')\n",
    "    elif new_labels[i] == 3:\n",
    "        print(1, end='')\n",
    "    elif new_labels[i] == 4:\n",
    "        print(6, end='')\n",
    "    elif new_labels[i] == 5:\n",
    "        print(8, end='')\n",
    "    elif new_labels[i] == 6:\n",
    "        print(4, end='')\n",
    "    elif new_labels[i] == 7:\n",
    "        print(5, end='')\n",
    "    elif new_labels[i] == 8:\n",
    "        print(7, end='')\n",
    "    elif new_labels[i] == 9:\n",
    "        print(3, end='')"
   ]
  },
  {
   "cell_type": "markdown",
   "id": "f0bc6d50-0111-4698-9429-fdd064965c73",
   "metadata": {},
   "source": [
    "Actually 2240, but we know the accuracy isn't good!"
   ]
  }
 ],
 "metadata": {
  "kernelspec": {
   "display_name": "Python 3 (ipykernel)",
   "language": "python",
   "name": "python3"
  },
  "language_info": {
   "codemirror_mode": {
    "name": "ipython",
    "version": 3
   },
   "file_extension": ".py",
   "mimetype": "text/x-python",
   "name": "python",
   "nbconvert_exporter": "python",
   "pygments_lexer": "ipython3",
   "version": "3.9.0"
  }
 },
 "nbformat": 4,
 "nbformat_minor": 5
}
