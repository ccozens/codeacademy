{
 "cells": [
  {
   "cell_type": "code",
   "execution_count": 225,
   "id": "61445f8d-459a-4d36-91fe-4685ed034c4f",
   "metadata": {
    "execution": {
     "iopub.execute_input": "2022-04-12T09:53:19.147947Z",
     "iopub.status.busy": "2022-04-12T09:53:19.147403Z",
     "iopub.status.idle": "2022-04-12T09:53:19.152244Z",
     "shell.execute_reply": "2022-04-12T09:53:19.151456Z",
     "shell.execute_reply.started": "2022-04-12T09:53:19.147918Z"
    },
    "tags": []
   },
   "outputs": [],
   "source": [
    "import pandas as pd\n",
    "import numpy as np\n",
    "import matplotlib.pyplot as plt\n",
    "from sklearn.linear_model import LogisticRegression\n",
    "from sklearn.model_selection import train_test_split\n",
    "from sklearn.preprocessing import StandardScaler\n",
    "import seaborn as sns"
   ]
  },
  {
   "cell_type": "code",
   "execution_count": 215,
   "id": "41205e3e-ae99-4529-a8e7-7a895a80c870",
   "metadata": {
    "execution": {
     "iopub.execute_input": "2022-04-12T09:50:21.233278Z",
     "iopub.status.busy": "2022-04-12T09:50:21.233004Z",
     "iopub.status.idle": "2022-04-12T09:50:21.253345Z",
     "shell.execute_reply": "2022-04-12T09:50:21.252630Z",
     "shell.execute_reply.started": "2022-04-12T09:50:21.233252Z"
    },
    "tags": []
   },
   "outputs": [
    {
     "data": {
      "text/html": [
       "<div>\n",
       "<style scoped>\n",
       "    .dataframe tbody tr th:only-of-type {\n",
       "        vertical-align: middle;\n",
       "    }\n",
       "\n",
       "    .dataframe tbody tr th {\n",
       "        vertical-align: top;\n",
       "    }\n",
       "\n",
       "    .dataframe thead th {\n",
       "        text-align: right;\n",
       "    }\n",
       "</style>\n",
       "<table border=\"1\" class=\"dataframe\">\n",
       "  <thead>\n",
       "    <tr style=\"text-align: right;\">\n",
       "      <th></th>\n",
       "      <th>PassengerId</th>\n",
       "      <th>Survived</th>\n",
       "      <th>Pclass</th>\n",
       "      <th>Name</th>\n",
       "      <th>Sex</th>\n",
       "      <th>Age</th>\n",
       "      <th>SibSp</th>\n",
       "      <th>Parch</th>\n",
       "      <th>Ticket</th>\n",
       "      <th>Fare</th>\n",
       "      <th>Cabin</th>\n",
       "      <th>Embarked</th>\n",
       "    </tr>\n",
       "  </thead>\n",
       "  <tbody>\n",
       "    <tr>\n",
       "      <th>0</th>\n",
       "      <td>1</td>\n",
       "      <td>0</td>\n",
       "      <td>3</td>\n",
       "      <td>Braund, Mr. Owen Harris</td>\n",
       "      <td>male</td>\n",
       "      <td>22.0</td>\n",
       "      <td>1</td>\n",
       "      <td>0</td>\n",
       "      <td>A/5 21171</td>\n",
       "      <td>7.2500</td>\n",
       "      <td>NaN</td>\n",
       "      <td>S</td>\n",
       "    </tr>\n",
       "    <tr>\n",
       "      <th>1</th>\n",
       "      <td>2</td>\n",
       "      <td>1</td>\n",
       "      <td>1</td>\n",
       "      <td>Cumings, Mrs. John Bradley (Florence Briggs Th...</td>\n",
       "      <td>female</td>\n",
       "      <td>38.0</td>\n",
       "      <td>1</td>\n",
       "      <td>0</td>\n",
       "      <td>PC 17599</td>\n",
       "      <td>71.2833</td>\n",
       "      <td>C85</td>\n",
       "      <td>C</td>\n",
       "    </tr>\n",
       "    <tr>\n",
       "      <th>2</th>\n",
       "      <td>3</td>\n",
       "      <td>1</td>\n",
       "      <td>3</td>\n",
       "      <td>Heikkinen, Miss. Laina</td>\n",
       "      <td>female</td>\n",
       "      <td>26.0</td>\n",
       "      <td>0</td>\n",
       "      <td>0</td>\n",
       "      <td>STON/O2. 3101282</td>\n",
       "      <td>7.9250</td>\n",
       "      <td>NaN</td>\n",
       "      <td>S</td>\n",
       "    </tr>\n",
       "    <tr>\n",
       "      <th>3</th>\n",
       "      <td>4</td>\n",
       "      <td>1</td>\n",
       "      <td>1</td>\n",
       "      <td>Futrelle, Mrs. Jacques Heath (Lily May Peel)</td>\n",
       "      <td>female</td>\n",
       "      <td>35.0</td>\n",
       "      <td>1</td>\n",
       "      <td>0</td>\n",
       "      <td>113803</td>\n",
       "      <td>53.1000</td>\n",
       "      <td>C123</td>\n",
       "      <td>S</td>\n",
       "    </tr>\n",
       "    <tr>\n",
       "      <th>4</th>\n",
       "      <td>5</td>\n",
       "      <td>0</td>\n",
       "      <td>3</td>\n",
       "      <td>Allen, Mr. William Henry</td>\n",
       "      <td>male</td>\n",
       "      <td>35.0</td>\n",
       "      <td>0</td>\n",
       "      <td>0</td>\n",
       "      <td>373450</td>\n",
       "      <td>8.0500</td>\n",
       "      <td>NaN</td>\n",
       "      <td>S</td>\n",
       "    </tr>\n",
       "  </tbody>\n",
       "</table>\n",
       "</div>"
      ],
      "text/plain": [
       "   PassengerId  Survived  Pclass  \\\n",
       "0            1         0       3   \n",
       "1            2         1       1   \n",
       "2            3         1       3   \n",
       "3            4         1       1   \n",
       "4            5         0       3   \n",
       "\n",
       "                                                Name     Sex   Age  SibSp  \\\n",
       "0                            Braund, Mr. Owen Harris    male  22.0      1   \n",
       "1  Cumings, Mrs. John Bradley (Florence Briggs Th...  female  38.0      1   \n",
       "2                             Heikkinen, Miss. Laina  female  26.0      0   \n",
       "3       Futrelle, Mrs. Jacques Heath (Lily May Peel)  female  35.0      1   \n",
       "4                           Allen, Mr. William Henry    male  35.0      0   \n",
       "\n",
       "   Parch            Ticket     Fare Cabin Embarked  \n",
       "0      0         A/5 21171   7.2500   NaN        S  \n",
       "1      0          PC 17599  71.2833   C85        C  \n",
       "2      0  STON/O2. 3101282   7.9250   NaN        S  \n",
       "3      0            113803  53.1000  C123        S  \n",
       "4      0            373450   8.0500   NaN        S  "
      ]
     },
     "execution_count": 215,
     "metadata": {},
     "output_type": "execute_result"
    }
   ],
   "source": [
    "# Load the passenger data\n",
    "passengers = pd.read_csv(\"train.csv\")\n",
    "passengers.head()"
   ]
  },
  {
   "cell_type": "code",
   "execution_count": 216,
   "id": "cc9446b1-a615-4a36-a052-7c60615ff040",
   "metadata": {
    "execution": {
     "iopub.execute_input": "2022-04-12T09:50:21.556848Z",
     "iopub.status.busy": "2022-04-12T09:50:21.555544Z",
     "iopub.status.idle": "2022-04-12T09:50:21.564456Z",
     "shell.execute_reply": "2022-04-12T09:50:21.563302Z",
     "shell.execute_reply.started": "2022-04-12T09:50:21.556812Z"
    },
    "tags": []
   },
   "outputs": [],
   "source": [
    "# convert sex to numerical (female=1, male=1)\n",
    "passengers['Sex'] = ((passengers['Sex']=='female').astype(int))"
   ]
  },
  {
   "cell_type": "code",
   "execution_count": 217,
   "id": "fd5d6dab-906b-4cb8-b9a7-8c7a570553d9",
   "metadata": {
    "execution": {
     "iopub.execute_input": "2022-04-12T09:50:21.876137Z",
     "iopub.status.busy": "2022-04-12T09:50:21.875732Z",
     "iopub.status.idle": "2022-04-12T09:50:21.886952Z",
     "shell.execute_reply": "2022-04-12T09:50:21.886275Z",
     "shell.execute_reply.started": "2022-04-12T09:50:21.876096Z"
    },
    "tags": []
   },
   "outputs": [
    {
     "data": {
      "text/plain": [
       "PassengerId      0\n",
       "Survived         0\n",
       "Pclass           0\n",
       "Name             0\n",
       "Sex              0\n",
       "Age            177\n",
       "SibSp            0\n",
       "Parch            0\n",
       "Ticket           0\n",
       "Fare             0\n",
       "Cabin          687\n",
       "Embarked         2\n",
       "dtype: int64"
      ]
     },
     "execution_count": 217,
     "metadata": {},
     "output_type": "execute_result"
    }
   ],
   "source": [
    "# check for nan values\n",
    "passengers.isna().sum()"
   ]
  },
  {
   "cell_type": "code",
   "execution_count": 218,
   "id": "e29030f6-a56e-4a81-84c8-17660a88829b",
   "metadata": {
    "execution": {
     "iopub.execute_input": "2022-04-12T09:50:22.030204Z",
     "iopub.status.busy": "2022-04-12T09:50:22.029788Z",
     "iopub.status.idle": "2022-04-12T09:50:22.037651Z",
     "shell.execute_reply": "2022-04-12T09:50:22.036847Z",
     "shell.execute_reply.started": "2022-04-12T09:50:22.030163Z"
    },
    "tags": []
   },
   "outputs": [],
   "source": [
    "# fill Age with mean age\n",
    "passengers['Age'] = passengers['Age'].fillna(passengers['Age'].mean())"
   ]
  },
  {
   "cell_type": "code",
   "execution_count": 219,
   "id": "a2d16fa5-3810-4901-87fd-b007648d9c05",
   "metadata": {
    "execution": {
     "iopub.execute_input": "2022-04-12T09:50:23.490758Z",
     "iopub.status.busy": "2022-04-12T09:50:23.490419Z",
     "iopub.status.idle": "2022-04-12T09:50:23.498903Z",
     "shell.execute_reply": "2022-04-12T09:50:23.498036Z",
     "shell.execute_reply.started": "2022-04-12T09:50:23.490728Z"
    },
    "tags": []
   },
   "outputs": [],
   "source": [
    "# split passengers by class using 'Pclass'\n",
    "\n",
    "passengers['FirstClass'] = (passengers['Pclass'] ==1).astype(int)\n",
    "passengers['SecondClass'] = (passengers['Pclass'] ==2).astype(int)\n",
    "passengers['ThirdClass'] = (passengers['Pclass'] ==3).astype(int)"
   ]
  },
  {
   "cell_type": "code",
   "execution_count": 220,
   "id": "58dc4100-5913-46be-875e-4c8ed5a5ba71",
   "metadata": {
    "execution": {
     "iopub.execute_input": "2022-04-12T09:50:25.002094Z",
     "iopub.status.busy": "2022-04-12T09:50:25.001504Z",
     "iopub.status.idle": "2022-04-12T09:50:25.011027Z",
     "shell.execute_reply": "2022-04-12T09:50:25.010446Z",
     "shell.execute_reply.started": "2022-04-12T09:50:25.002067Z"
    },
    "tags": []
   },
   "outputs": [
    {
     "data": {
      "text/plain": [
       "PassengerId      0\n",
       "Survived         0\n",
       "Pclass           0\n",
       "Name             0\n",
       "Sex              0\n",
       "Age              0\n",
       "SibSp            0\n",
       "Parch            0\n",
       "Ticket           0\n",
       "Fare             0\n",
       "Cabin          687\n",
       "Embarked         2\n",
       "FirstClass       0\n",
       "SecondClass      0\n",
       "ThirdClass       0\n",
       "dtype: int64"
      ]
     },
     "execution_count": 220,
     "metadata": {},
     "output_type": "execute_result"
    }
   ],
   "source": [
    "# check all worked\n",
    "passengers.isna().sum()"
   ]
  },
  {
   "cell_type": "code",
   "execution_count": 221,
   "id": "5052ec13-e956-4127-8578-dca55a867d33",
   "metadata": {
    "execution": {
     "iopub.execute_input": "2022-04-12T09:50:29.141072Z",
     "iopub.status.busy": "2022-04-12T09:50:29.140728Z",
     "iopub.status.idle": "2022-04-12T09:50:29.156984Z",
     "shell.execute_reply": "2022-04-12T09:50:29.154943Z",
     "shell.execute_reply.started": "2022-04-12T09:50:29.141045Z"
    },
    "tags": []
   },
   "outputs": [
    {
     "data": {
      "text/html": [
       "<div>\n",
       "<style scoped>\n",
       "    .dataframe tbody tr th:only-of-type {\n",
       "        vertical-align: middle;\n",
       "    }\n",
       "\n",
       "    .dataframe tbody tr th {\n",
       "        vertical-align: top;\n",
       "    }\n",
       "\n",
       "    .dataframe thead th {\n",
       "        text-align: right;\n",
       "    }\n",
       "</style>\n",
       "<table border=\"1\" class=\"dataframe\">\n",
       "  <thead>\n",
       "    <tr style=\"text-align: right;\">\n",
       "      <th></th>\n",
       "      <th>PassengerId</th>\n",
       "      <th>Survived</th>\n",
       "      <th>Pclass</th>\n",
       "      <th>Name</th>\n",
       "      <th>Sex</th>\n",
       "      <th>Age</th>\n",
       "      <th>SibSp</th>\n",
       "      <th>Parch</th>\n",
       "      <th>Ticket</th>\n",
       "      <th>Fare</th>\n",
       "      <th>Cabin</th>\n",
       "      <th>Embarked</th>\n",
       "      <th>FirstClass</th>\n",
       "      <th>SecondClass</th>\n",
       "      <th>ThirdClass</th>\n",
       "    </tr>\n",
       "  </thead>\n",
       "  <tbody>\n",
       "    <tr>\n",
       "      <th>0</th>\n",
       "      <td>1</td>\n",
       "      <td>0</td>\n",
       "      <td>3</td>\n",
       "      <td>Braund, Mr. Owen Harris</td>\n",
       "      <td>0</td>\n",
       "      <td>22.0</td>\n",
       "      <td>1</td>\n",
       "      <td>0</td>\n",
       "      <td>A/5 21171</td>\n",
       "      <td>7.25</td>\n",
       "      <td>NaN</td>\n",
       "      <td>S</td>\n",
       "      <td>0</td>\n",
       "      <td>0</td>\n",
       "      <td>1</td>\n",
       "    </tr>\n",
       "  </tbody>\n",
       "</table>\n",
       "</div>"
      ],
      "text/plain": [
       "   PassengerId  Survived  Pclass                     Name  Sex   Age  SibSp  \\\n",
       "0            1         0       3  Braund, Mr. Owen Harris    0  22.0      1   \n",
       "\n",
       "   Parch     Ticket  Fare Cabin Embarked  FirstClass  SecondClass  ThirdClass  \n",
       "0      0  A/5 21171  7.25   NaN        S           0            0           1  "
      ]
     },
     "execution_count": 221,
     "metadata": {},
     "output_type": "execute_result"
    }
   ],
   "source": [
    "passengers.head(1)"
   ]
  },
  {
   "cell_type": "code",
   "execution_count": 222,
   "id": "c822db17-68a9-4aa9-b882-8d5749125c18",
   "metadata": {
    "execution": {
     "iopub.execute_input": "2022-04-12T09:50:30.646768Z",
     "iopub.status.busy": "2022-04-12T09:50:30.646488Z",
     "iopub.status.idle": "2022-04-12T09:50:30.661697Z",
     "shell.execute_reply": "2022-04-12T09:50:30.660700Z",
     "shell.execute_reply.started": "2022-04-12T09:50:30.646737Z"
    },
    "tags": []
   },
   "outputs": [
    {
     "data": {
      "text/plain": [
       "PassengerId    0.005007\n",
       "SibSp          0.035322\n",
       "Age            0.069809\n",
       "Parch          0.081629\n",
       "SecondClass    0.093349\n",
       "Fare           0.257307\n",
       "FirstClass     0.285904\n",
       "ThirdClass     0.322308\n",
       "Pclass         0.338481\n",
       "Sex            0.543351\n",
       "Survived       1.000000\n",
       "dtype: float64"
      ]
     },
     "execution_count": 222,
     "metadata": {},
     "output_type": "execute_result"
    }
   ],
   "source": [
    "# check for correlations with surivival - note sort by absolute values so not seeing pos/neg\n",
    "correlations = passengers.corrwith(passengers.Survived).abs().sort_values()\n",
    "correlations"
   ]
  },
  {
   "cell_type": "code",
   "execution_count": 229,
   "id": "1c8f9b1b-68d3-4bc2-b148-28be4c6ae94f",
   "metadata": {
    "execution": {
     "iopub.execute_input": "2022-04-12T09:56:00.164093Z",
     "iopub.status.busy": "2022-04-12T09:56:00.163806Z",
     "iopub.status.idle": "2022-04-12T09:56:00.373258Z",
     "shell.execute_reply": "2022-04-12T09:56:00.372454Z",
     "shell.execute_reply.started": "2022-04-12T09:56:00.164064Z"
    },
    "tags": []
   },
   "outputs": [
    {
     "data": {
      "text/plain": [
       "Text(0.5, 1.0, 'Count of features with strong correlations with Survived')"
      ]
     },
     "execution_count": 229,
     "metadata": {},
     "output_type": "execute_result"
    },
    {
     "data": {
      "image/png": "[encoded data removed]",
      "text/plain": [
       "<Figure size 432x288 with 1 Axes>"
      ]
     },
     "metadata": {
      "needs_background": "light"
     },
     "output_type": "display_data"
    }
   ],
   "source": [
    "ax = sns.histplot(correlations)\n",
    "ax.bar_label(ax.containers[0])\n",
    "plt.title(\"Count of features with strong correlations with Survived\")"
   ]
  },
  {
   "cell_type": "markdown",
   "id": "0e97598a-d153-4433-bab1-f691fa4bb1a3",
   "metadata": {},
   "source": [
    "Not super helpful, but does show that only 1 feature correlates with with survival even 50% of the time"
   ]
  },
  {
   "cell_type": "code",
   "execution_count": 191,
   "id": "9b73c034-eb45-426e-969b-8fd6dee769da",
   "metadata": {
    "execution": {
     "iopub.execute_input": "2022-04-12T09:44:25.083800Z",
     "iopub.status.busy": "2022-04-12T09:44:25.083448Z",
     "iopub.status.idle": "2022-04-12T09:44:25.090103Z",
     "shell.execute_reply": "2022-04-12T09:44:25.089241Z",
     "shell.execute_reply.started": "2022-04-12T09:44:25.083764Z"
    },
    "tags": []
   },
   "outputs": [],
   "source": [
    "# codeacademy want Sex, Age, FirstClass, and SecondClass so here we go\n",
    "features = passengers[[\"Sex\", \"Age\", \"FirstClass\", \"SecondClass\"]]\n",
    "# I'll choose Sex, Pclass and Fare\n",
    "features_me = passengers[[\"Sex\", \"Age\", \"Fare\"]]"
   ]
  },
  {
   "cell_type": "code",
   "execution_count": 192,
   "id": "f51d2fa3-9d54-48af-b91c-0b27313a9892",
   "metadata": {
    "execution": {
     "iopub.execute_input": "2022-04-12T09:44:25.372814Z",
     "iopub.status.busy": "2022-04-12T09:44:25.372546Z",
     "iopub.status.idle": "2022-04-12T09:44:25.381287Z",
     "shell.execute_reply": "2022-04-12T09:44:25.380608Z",
     "shell.execute_reply.started": "2022-04-12T09:44:25.372788Z"
    },
    "tags": []
   },
   "outputs": [],
   "source": [
    "# split both\n",
    "X_train, X_test, y_train, y_test = train_test_split(features, passengers[\"Survived\"], test_size=0.25, random_state = 26)\n",
    "X_train_me, X_test_me, y_train_me, y_test_me = train_test_split(features_me, passengers[\"Survived\"], test_size=0.25, random_state = 26)"
   ]
  },
  {
   "cell_type": "code",
   "execution_count": 193,
   "id": "f8e3c082-5252-4f54-be11-6ff09ebb51cf",
   "metadata": {
    "execution": {
     "iopub.execute_input": "2022-04-12T09:44:26.745703Z",
     "iopub.status.busy": "2022-04-12T09:44:26.745370Z",
     "iopub.status.idle": "2022-04-12T09:44:26.751725Z",
     "shell.execute_reply": "2022-04-12T09:44:26.750718Z",
     "shell.execute_reply.started": "2022-04-12T09:44:26.745674Z"
    },
    "tags": []
   },
   "outputs": [
    {
     "name": "stdout",
     "output_type": "stream",
     "text": [
      "(668, 4) (668,)\n",
      "(668, 3) (668,)\n"
     ]
    }
   ],
   "source": [
    "# check for lengths are the same\n",
    "print(X_train.shape, y_train.shape)\n",
    "print(X_train_me.shape, y_train_me.shape)"
   ]
  },
  {
   "cell_type": "markdown",
   "id": "d834233e-89c0-4ff5-880d-8a63330b4440",
   "metadata": {},
   "source": [
    "Since sklearn‘s Logistic Regression implementation uses Regularization, we need to scale our feature data. Create a StandardScaler object, .fit_transform() it on the training features, and .transform() the test features."
   ]
  },
  {
   "cell_type": "code",
   "execution_count": 194,
   "id": "38d9487a-b814-4d4e-90a1-8348f0856ce0",
   "metadata": {
    "execution": {
     "iopub.execute_input": "2022-04-12T09:44:28.545031Z",
     "iopub.status.busy": "2022-04-12T09:44:28.544742Z",
     "iopub.status.idle": "2022-04-12T09:44:28.561261Z",
     "shell.execute_reply": "2022-04-12T09:44:28.560506Z",
     "shell.execute_reply.started": "2022-04-12T09:44:28.545001Z"
    },
    "tags": []
   },
   "outputs": [],
   "source": [
    "# Scale the feature data so it has mean = 0 and standard deviation = 1\n",
    "scaler = StandardScaler()\n",
    "X_train_norm = scaler.fit_transform(X_train)\n",
    "X_test_norm = scaler.transform(X_test)\n",
    "scaler_me = StandardScaler()\n",
    "X_train_me_norm = scaler_me.fit_transform(X_train_me)\n",
    "X_test_me_norm = scaler_me.transform(X_test_me)\n"
   ]
  },
  {
   "cell_type": "code",
   "execution_count": 195,
   "id": "84712dc2-5ef3-495d-b436-70a2a2dcff0b",
   "metadata": {
    "execution": {
     "iopub.execute_input": "2022-04-12T09:44:34.171248Z",
     "iopub.status.busy": "2022-04-12T09:44:34.170935Z",
     "iopub.status.idle": "2022-04-12T09:44:34.184203Z",
     "shell.execute_reply": "2022-04-12T09:44:34.183495Z",
     "shell.execute_reply.started": "2022-04-12T09:44:34.171214Z"
    },
    "tags": []
   },
   "outputs": [],
   "source": [
    "# crete and train model(s!)\n",
    "\n",
    "logreg = LogisticRegression()\n",
    "lrmodel = logreg.fit(X_train_norm, y_train)\n",
    "\n",
    "logreg_me = LogisticRegression()\n",
    "lrmodel_me = logreg_me.fit(X_train_me_norm, y_train)"
   ]
  },
  {
   "cell_type": "code",
   "execution_count": 196,
   "id": "5098fc1a-e015-4109-8d51-c7353d8d2995",
   "metadata": {
    "execution": {
     "iopub.execute_input": "2022-04-12T09:44:36.106923Z",
     "iopub.status.busy": "2022-04-12T09:44:36.106424Z",
     "iopub.status.idle": "2022-04-12T09:44:36.115227Z",
     "shell.execute_reply": "2022-04-12T09:44:36.114703Z",
     "shell.execute_reply.started": "2022-04-12T09:44:36.106897Z"
    },
    "tags": []
   },
   "outputs": [
    {
     "name": "stdout",
     "output_type": "stream",
     "text": [
      "CA's model accuracy on train data: 0.786\n",
      "CA's model accuracy on test data: 0.780\n",
      "My model accuracy on train data: 0.786\n",
      "My model accuracy on test data: 0.771\n"
     ]
    }
   ],
   "source": [
    "# score models\n",
    "print(\"CA's model accuracy on train data: {:.3f}\".format(lrmodel.score(X_train_norm, y_train)))\n",
    "print(\"CA's model accuracy on test data: {:.3f}\".format(lrmodel.score(X_test_norm, y_test)))\n",
    "print(\"My model accuracy on train data: {:.3f}\".format(lrmodel_me.score(X_train_me_norm, y_train)))\n",
    "print(\"My model accuracy on test data: {:.3f}\".format(lrmodel_me.score(X_test_me_norm, y_test)))"
   ]
  },
  {
   "cell_type": "code",
   "execution_count": 197,
   "id": "8bb4a2be-a491-4566-8378-69fa0a243361",
   "metadata": {
    "execution": {
     "iopub.execute_input": "2022-04-12T09:44:40.723172Z",
     "iopub.status.busy": "2022-04-12T09:44:40.722894Z",
     "iopub.status.idle": "2022-04-12T09:44:40.729476Z",
     "shell.execute_reply": "2022-04-12T09:44:40.728384Z",
     "shell.execute_reply.started": "2022-04-12T09:44:40.723145Z"
    },
    "tags": []
   },
   "outputs": [
    {
     "name": "stdout",
     "output_type": "stream",
     "text": [
      "CA's feature selection:\n",
      "Sex 1.268773706782143\n",
      "Age -0.4453627597649696\n",
      "FirstClass 1.070746758379249\n",
      "SecondClass 0.49029701654370583\n"
     ]
    }
   ],
   "source": [
    "print(\"CA's feature selection:\")\n",
    "for i in range(len(features.columns)):\n",
    "    print(features.columns[i], lrmodel.coef_[0][i])"
   ]
  },
  {
   "cell_type": "code",
   "execution_count": 198,
   "id": "c5916724-4f3d-4d42-980d-d84ccd3bbfc7",
   "metadata": {
    "execution": {
     "iopub.execute_input": "2022-04-12T09:44:42.925968Z",
     "iopub.status.busy": "2022-04-12T09:44:42.925635Z",
     "iopub.status.idle": "2022-04-12T09:44:42.931341Z",
     "shell.execute_reply": "2022-04-12T09:44:42.930471Z",
     "shell.execute_reply.started": "2022-04-12T09:44:42.925914Z"
    },
    "tags": []
   },
   "outputs": [
    {
     "name": "stdout",
     "output_type": "stream",
     "text": [
      "My feature selection:\n",
      "Sex 1.1673850933671097\n",
      "Age -0.13568132048792\n",
      "Fare 0.7539754806819511\n"
     ]
    }
   ],
   "source": [
    "print(\"My feature selection:\")\n",
    "for i in range(len(features_me.columns)):\n",
    "    print(features_me.columns[i], lrmodel_me.coef_[0][i])"
   ]
  },
  {
   "cell_type": "markdown",
   "id": "2806031c-8f0d-421b-a180-5681a8358d50",
   "metadata": {},
   "source": [
    "Sex clearly the strongest feature in both models.  \n",
    "First Class a strong predictor in CA's feature set.  \n",
    "Fare fairly important in my feature set.\n",
    "\n",
    "Age an inverse predictor in both feature sets - interestingly given more weight in theirs, even though model accuracies are similar."
   ]
  },
  {
   "cell_type": "code",
   "execution_count": 199,
   "id": "de841bd7-dd64-4c9a-b647-39d4d404d3ec",
   "metadata": {
    "execution": {
     "iopub.execute_input": "2022-04-12T09:44:48.124241Z",
     "iopub.status.busy": "2022-04-12T09:44:48.123551Z",
     "iopub.status.idle": "2022-04-12T09:44:48.128409Z",
     "shell.execute_reply": "2022-04-12T09:44:48.127714Z",
     "shell.execute_reply.started": "2022-04-12T09:44:48.124209Z"
    },
    "tags": []
   },
   "outputs": [],
   "source": [
    "# predictions!\n",
    "# Sample passenger features\n",
    "Jack = np.array([0.0,20.0,0.0,0.0])\n",
    "Rose = np.array([1.0,17.0,1.0,0.0])\n",
    "You = np.array([0.0,38.0,0.0,0.1])"
   ]
  },
  {
   "cell_type": "code",
   "execution_count": 200,
   "id": "0c1e91da-5490-4474-9bab-b3501d509d5e",
   "metadata": {
    "execution": {
     "iopub.execute_input": "2022-04-12T09:44:51.027139Z",
     "iopub.status.busy": "2022-04-12T09:44:51.026820Z",
     "iopub.status.idle": "2022-04-12T09:44:51.032418Z",
     "shell.execute_reply": "2022-04-12T09:44:51.031774Z",
     "shell.execute_reply.started": "2022-04-12T09:44:51.027106Z"
    },
    "tags": []
   },
   "outputs": [
    {
     "data": {
      "text/plain": [
       "array([[ 0. , 20. ,  0. ,  0. ],\n",
       "       [ 1. , 17. ,  1. ,  0. ],\n",
       "       [ 0. , 38. ,  0. ,  0.1]])"
      ]
     },
     "execution_count": 200,
     "metadata": {},
     "output_type": "execute_result"
    }
   ],
   "source": [
    "# Combine passenger arrays\n",
    "sample_passengers = np.concatenate([[Jack, Rose, You]]) # double square brackets to convert to 2D array\n",
    "sample_passengers"
   ]
  },
  {
   "cell_type": "code",
   "execution_count": 201,
   "id": "f36e5697-d1fa-4fe6-8c90-e86fea63a976",
   "metadata": {
    "execution": {
     "iopub.execute_input": "2022-04-12T09:44:55.212736Z",
     "iopub.status.busy": "2022-04-12T09:44:55.212433Z",
     "iopub.status.idle": "2022-04-12T09:44:55.219612Z",
     "shell.execute_reply": "2022-04-12T09:44:55.218786Z",
     "shell.execute_reply.started": "2022-04-12T09:44:55.212706Z"
    },
    "tags": []
   },
   "outputs": [
    {
     "name": "stderr",
     "output_type": "stream",
     "text": [
      "/Users/learning/opt/miniconda3/envs/std/lib/python3.9/site-packages/sklearn/base.py:445: UserWarning: X does not have valid feature names, but StandardScaler was fitted with feature names\n",
      "  warnings.warn(\n"
     ]
    },
    {
     "data": {
      "text/plain": [
       "array([[-0.73669883, -0.75179616, -0.56351951, -0.52886055],\n",
       "       [ 1.35740679, -0.98160054,  1.77456145, -0.52886055],\n",
       "       [-0.73669883,  0.62703009, -0.56351951, -0.28688874]])"
      ]
     },
     "execution_count": 201,
     "metadata": {},
     "output_type": "execute_result"
    }
   ],
   "source": [
    "# Scale the sample passenger features\n",
    "sample_passengers_norm = scaler.transform(sample_passengers)\n",
    "sample_passengers_norm"
   ]
  },
  {
   "cell_type": "code",
   "execution_count": 205,
   "id": "bcda640b-c4ef-4885-9cdd-5c7ba24fa522",
   "metadata": {
    "execution": {
     "iopub.execute_input": "2022-04-12T09:46:46.921914Z",
     "iopub.status.busy": "2022-04-12T09:46:46.921639Z",
     "iopub.status.idle": "2022-04-12T09:46:46.927611Z",
     "shell.execute_reply": "2022-04-12T09:46:46.926892Z",
     "shell.execute_reply.started": "2022-04-12T09:46:46.921886Z"
    },
    "tags": []
   },
   "outputs": [
    {
     "data": {
      "text/plain": [
       "array([0, 1, 0])"
      ]
     },
     "execution_count": 205,
     "metadata": {},
     "output_type": "execute_result"
    }
   ],
   "source": [
    "predictions = lrmodel.predict(sample_passengers_norm)\n",
    "predictions"
   ]
  },
  {
   "cell_type": "code",
   "execution_count": 204,
   "id": "40570477-d5af-4b74-a52d-ba305e1619d7",
   "metadata": {
    "execution": {
     "iopub.execute_input": "2022-04-12T09:45:27.829967Z",
     "iopub.status.busy": "2022-04-12T09:45:27.829695Z",
     "iopub.status.idle": "2022-04-12T09:45:27.835665Z",
     "shell.execute_reply": "2022-04-12T09:45:27.835140Z",
     "shell.execute_reply.started": "2022-04-12T09:45:27.829942Z"
    },
    "tags": []
   },
   "outputs": [
    {
     "data": {
      "text/plain": [
       "array([[0.88823874, 0.11176126],\n",
       "       [0.03954722, 0.96045278],\n",
       "       [0.92879436, 0.07120564]])"
      ]
     },
     "execution_count": 204,
     "metadata": {},
     "output_type": "execute_result"
    }
   ],
   "source": [
    "np.set_printoptions(suppress=True) # this shows numbers instead of scientific notation\n",
    "lrmodel.predict_proba(sample_passengers_norm)"
   ]
  },
  {
   "cell_type": "code",
   "execution_count": 214,
   "id": "3f5fd2bf-185d-47c0-a8d9-716c894bb502",
   "metadata": {
    "execution": {
     "iopub.execute_input": "2022-04-12T09:50:06.012581Z",
     "iopub.status.busy": "2022-04-12T09:50:06.012315Z",
     "iopub.status.idle": "2022-04-12T09:50:06.017898Z",
     "shell.execute_reply": "2022-04-12T09:50:06.017089Z",
     "shell.execute_reply.started": "2022-04-12T09:50:06.012555Z"
    },
    "tags": []
   },
   "outputs": [
    {
     "name": "stdout",
     "output_type": "stream",
     "text": [
      "Jack is going to die\n",
      "Rose is going to survive, whoop whoop\n",
      "Sorry, but Chris is going to die\n"
     ]
    }
   ],
   "source": [
    "names = [\"Jack\", \"Rose\", \"Sorry, but Chris\"]\n",
    "\n",
    "for i in range(len(names)):\n",
    "    if predictions[i] == 0:\n",
    "        print(\"{} is going to die\".format(names[i]))\n",
    "    if predictions[i] == 1:\n",
    "        print(\"{} is going to survive, whoop whoop\".format(names[i]))"
   ]
  },
  {
   "cell_type": "code",
   "execution_count": null,
   "id": "608b7231-1e55-417c-835b-a197b045a1ee",
   "metadata": {},
   "outputs": [],
   "source": []
  }
 ],
 "metadata": {
  "kernelspec": {
   "display_name": "Python 3 (ipykernel)",
   "language": "python",
   "name": "python3"
  },
  "language_info": {
   "codemirror_mode": {
    "name": "ipython",
    "version": 3
   },
   "file_extension": ".py",
   "mimetype": "text/x-python",
   "name": "python",
   "nbconvert_exporter": "python",
   "pygments_lexer": "ipython3",
   "version": "3.9.0"
  }
 },
 "nbformat": 4,
 "nbformat_minor": 5
}
