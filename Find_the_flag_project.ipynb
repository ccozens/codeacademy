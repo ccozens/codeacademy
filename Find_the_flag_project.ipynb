{
 "cells": [
  {
   "cell_type": "markdown",
   "id": "d12ab82f-94f0-4409-a7c7-967efeb01ed2",
   "metadata": {},
   "source": [
    "## Find the Flag\n",
    "\n",
    "Can you guess which continent this flag comes from?\n",
    "\n",
    "<img src='flag.png' width='300px;'>  \n",
    "  \n",
    "What are some of the features that would clue you in? Maybe some of the colors are good indicators. The presence or absence of certain shapes could give you a hint. In this project, we’ll use decision trees to try to predict the continent of flags based on several of these features.\n",
    "\n",
    "We’ll explore which features are the best to use and the best way to create your decision tree.\n",
    "\n",
    "[Flags Dataset from UCI Machine Learning Repository](http://archive.ics.uci.edu/ml/datasets/Flags)"
   ]
  },
  {
   "cell_type": "code",
   "execution_count": 1,
   "id": "28cab739-c366-4497-bf3d-e50445a8b17a",
   "metadata": {
    "execution": {
     "iopub.execute_input": "2022-04-18T13:16:16.853500Z",
     "iopub.status.busy": "2022-04-18T13:16:16.852857Z",
     "iopub.status.idle": "2022-04-18T13:16:19.241430Z",
     "shell.execute_reply": "2022-04-18T13:16:19.240470Z",
     "shell.execute_reply.started": "2022-04-18T13:16:16.853430Z"
    }
   },
   "outputs": [],
   "source": [
    "# imports\n",
    "import pandas as pd\n",
    "from sklearn.model_selection import train_test_split\n",
    "from sklearn.tree import DecisionTreeClassifier\n",
    "import matplotlib.pyplot as plt"
   ]
  },
  {
   "cell_type": "code",
   "execution_count": 19,
   "id": "8fdbccbd-a979-4995-9b18-7e11cc86fe4b",
   "metadata": {
    "execution": {
     "iopub.execute_input": "2022-04-18T13:22:18.565185Z",
     "iopub.status.busy": "2022-04-18T13:22:18.564815Z",
     "iopub.status.idle": "2022-04-18T13:22:18.574863Z",
     "shell.execute_reply": "2022-04-18T13:22:18.574192Z",
     "shell.execute_reply.started": "2022-04-18T13:22:18.565145Z"
    },
    "tags": []
   },
   "outputs": [],
   "source": [
    "# data import\n",
    "flags = pd.read_csv('flags.csv')\n",
    "flags.drop(['ind', 'Unnamed: 31',], axis=1, inplace=True) # remove columna dded while generating csv"
   ]
  },
  {
   "cell_type": "code",
   "execution_count": 20,
   "id": "d21c411b-2d8e-40db-a5eb-afc052c47e8f",
   "metadata": {
    "execution": {
     "iopub.execute_input": "2022-04-18T13:22:19.508103Z",
     "iopub.status.busy": "2022-04-18T13:22:19.507840Z",
     "iopub.status.idle": "2022-04-18T13:22:19.524823Z",
     "shell.execute_reply": "2022-04-18T13:22:19.523955Z",
     "shell.execute_reply.started": "2022-04-18T13:22:19.508080Z"
    },
    "tags": []
   },
   "outputs": [
    {
     "data": {
      "text/html": [
       "<div>\n",
       "<style scoped>\n",
       "    .dataframe tbody tr th:only-of-type {\n",
       "        vertical-align: middle;\n",
       "    }\n",
       "\n",
       "    .dataframe tbody tr th {\n",
       "        vertical-align: top;\n",
       "    }\n",
       "\n",
       "    .dataframe thead th {\n",
       "        text-align: right;\n",
       "    }\n",
       "</style>\n",
       "<table border=\"1\" class=\"dataframe\">\n",
       "  <thead>\n",
       "    <tr style=\"text-align: right;\">\n",
       "      <th></th>\n",
       "      <th>Name</th>\n",
       "      <th>Landmass</th>\n",
       "      <th>Zone</th>\n",
       "      <th>Area</th>\n",
       "      <th>Population</th>\n",
       "      <th>Language</th>\n",
       "      <th>Religion</th>\n",
       "      <th>Bars</th>\n",
       "      <th>Stripes</th>\n",
       "      <th>Colors</th>\n",
       "      <th>...</th>\n",
       "      <th>Saltires</th>\n",
       "      <th>Quarters</th>\n",
       "      <th>Sunstars</th>\n",
       "      <th>Crescent</th>\n",
       "      <th>Triangle</th>\n",
       "      <th>Icon</th>\n",
       "      <th>Animate</th>\n",
       "      <th>Text</th>\n",
       "      <th>Topleft</th>\n",
       "      <th>Botright</th>\n",
       "    </tr>\n",
       "  </thead>\n",
       "  <tbody>\n",
       "    <tr>\n",
       "      <th>0</th>\n",
       "      <td>Afghanistan</td>\n",
       "      <td>5</td>\n",
       "      <td>1</td>\n",
       "      <td>648</td>\n",
       "      <td>16</td>\n",
       "      <td>10</td>\n",
       "      <td>2</td>\n",
       "      <td>0</td>\n",
       "      <td>3</td>\n",
       "      <td>5</td>\n",
       "      <td>...</td>\n",
       "      <td>0</td>\n",
       "      <td>0</td>\n",
       "      <td>1</td>\n",
       "      <td>0</td>\n",
       "      <td>0</td>\n",
       "      <td>1</td>\n",
       "      <td>0</td>\n",
       "      <td>0</td>\n",
       "      <td>black</td>\n",
       "      <td>green</td>\n",
       "    </tr>\n",
       "    <tr>\n",
       "      <th>1</th>\n",
       "      <td>Albania</td>\n",
       "      <td>3</td>\n",
       "      <td>1</td>\n",
       "      <td>29</td>\n",
       "      <td>3</td>\n",
       "      <td>6</td>\n",
       "      <td>6</td>\n",
       "      <td>0</td>\n",
       "      <td>0</td>\n",
       "      <td>3</td>\n",
       "      <td>...</td>\n",
       "      <td>0</td>\n",
       "      <td>0</td>\n",
       "      <td>1</td>\n",
       "      <td>0</td>\n",
       "      <td>0</td>\n",
       "      <td>0</td>\n",
       "      <td>1</td>\n",
       "      <td>0</td>\n",
       "      <td>red</td>\n",
       "      <td>red</td>\n",
       "    </tr>\n",
       "    <tr>\n",
       "      <th>2</th>\n",
       "      <td>Algeria</td>\n",
       "      <td>4</td>\n",
       "      <td>1</td>\n",
       "      <td>2388</td>\n",
       "      <td>20</td>\n",
       "      <td>8</td>\n",
       "      <td>2</td>\n",
       "      <td>2</td>\n",
       "      <td>0</td>\n",
       "      <td>3</td>\n",
       "      <td>...</td>\n",
       "      <td>0</td>\n",
       "      <td>0</td>\n",
       "      <td>1</td>\n",
       "      <td>1</td>\n",
       "      <td>0</td>\n",
       "      <td>0</td>\n",
       "      <td>0</td>\n",
       "      <td>0</td>\n",
       "      <td>green</td>\n",
       "      <td>white</td>\n",
       "    </tr>\n",
       "    <tr>\n",
       "      <th>3</th>\n",
       "      <td>American-Samoa</td>\n",
       "      <td>6</td>\n",
       "      <td>3</td>\n",
       "      <td>0</td>\n",
       "      <td>0</td>\n",
       "      <td>1</td>\n",
       "      <td>1</td>\n",
       "      <td>0</td>\n",
       "      <td>0</td>\n",
       "      <td>5</td>\n",
       "      <td>...</td>\n",
       "      <td>0</td>\n",
       "      <td>0</td>\n",
       "      <td>0</td>\n",
       "      <td>0</td>\n",
       "      <td>1</td>\n",
       "      <td>1</td>\n",
       "      <td>1</td>\n",
       "      <td>0</td>\n",
       "      <td>blue</td>\n",
       "      <td>red</td>\n",
       "    </tr>\n",
       "    <tr>\n",
       "      <th>4</th>\n",
       "      <td>Andorra</td>\n",
       "      <td>3</td>\n",
       "      <td>1</td>\n",
       "      <td>0</td>\n",
       "      <td>0</td>\n",
       "      <td>6</td>\n",
       "      <td>0</td>\n",
       "      <td>3</td>\n",
       "      <td>0</td>\n",
       "      <td>3</td>\n",
       "      <td>...</td>\n",
       "      <td>0</td>\n",
       "      <td>0</td>\n",
       "      <td>0</td>\n",
       "      <td>0</td>\n",
       "      <td>0</td>\n",
       "      <td>0</td>\n",
       "      <td>0</td>\n",
       "      <td>0</td>\n",
       "      <td>blue</td>\n",
       "      <td>red</td>\n",
       "    </tr>\n",
       "  </tbody>\n",
       "</table>\n",
       "<p>5 rows × 30 columns</p>\n",
       "</div>"
      ],
      "text/plain": [
       "             Name  Landmass  Zone  Area  Population  Language  Religion  Bars  \\\n",
       "0     Afghanistan         5     1   648          16        10         2     0   \n",
       "1         Albania         3     1    29           3         6         6     0   \n",
       "2         Algeria         4     1  2388          20         8         2     2   \n",
       "3  American-Samoa         6     3     0           0         1         1     0   \n",
       "4         Andorra         3     1     0           0         6         0     3   \n",
       "\n",
       "   Stripes  Colors  ...  Saltires  Quarters  Sunstars  Crescent  Triangle  \\\n",
       "0        3       5  ...         0         0         1         0         0   \n",
       "1        0       3  ...         0         0         1         0         0   \n",
       "2        0       3  ...         0         0         1         1         0   \n",
       "3        0       5  ...         0         0         0         0         1   \n",
       "4        0       3  ...         0         0         0         0         0   \n",
       "\n",
       "   Icon  Animate Text  Topleft  Botright  \n",
       "0     1        0    0    black     green  \n",
       "1     0        1    0      red       red  \n",
       "2     0        0    0    green     white  \n",
       "3     1        1    0     blue       red  \n",
       "4     0        0    0     blue       red  \n",
       "\n",
       "[5 rows x 30 columns]"
      ]
     },
     "execution_count": 20,
     "metadata": {},
     "output_type": "execute_result"
    }
   ],
   "source": [
    "# check import\n",
    "flags.head()"
   ]
  },
  {
   "cell_type": "code",
   "execution_count": 21,
   "id": "bf327347-1b20-4942-813b-b9b2f1d24c7b",
   "metadata": {
    "execution": {
     "iopub.execute_input": "2022-04-18T13:22:25.154978Z",
     "iopub.status.busy": "2022-04-18T13:22:25.154423Z",
     "iopub.status.idle": "2022-04-18T13:22:25.160553Z",
     "shell.execute_reply": "2022-04-18T13:22:25.159727Z",
     "shell.execute_reply.started": "2022-04-18T13:22:25.154946Z"
    },
    "tags": []
   },
   "outputs": [
    {
     "data": {
      "text/plain": [
       "Index(['Name', 'Landmass', 'Zone', 'Area', 'Population', 'Language',\n",
       "       'Religion', 'Bars', 'Stripes', 'Colors', 'Red', 'Green', 'Blue', 'Gold',\n",
       "       'White', 'Black', 'Orange', 'Mainhue', 'Circles', 'Crosses', 'Saltires',\n",
       "       'Quarters', 'Sunstars', 'Crescent', 'Triangle', 'Icon', 'Animate',\n",
       "       'Text', 'Topleft', 'Botright'],\n",
       "      dtype='object')"
      ]
     },
     "execution_count": 21,
     "metadata": {},
     "output_type": "execute_result"
    }
   ],
   "source": [
    "# look at available features\n",
    "flags.columns"
   ]
  },
  {
   "cell_type": "code",
   "execution_count": 23,
   "id": "12d1256d-0c65-4526-b8db-bf912f7ddd8a",
   "metadata": {
    "execution": {
     "iopub.execute_input": "2022-04-18T13:22:42.201760Z",
     "iopub.status.busy": "2022-04-18T13:22:42.201456Z",
     "iopub.status.idle": "2022-04-18T13:22:42.207094Z",
     "shell.execute_reply": "2022-04-18T13:22:42.206347Z",
     "shell.execute_reply.started": "2022-04-18T13:22:42.201728Z"
    },
    "tags": []
   },
   "outputs": [
    {
     "data": {
      "text/plain": [
       "(194, 30)"
      ]
     },
     "execution_count": 23,
     "metadata": {},
     "output_type": "execute_result"
    }
   ],
   "source": [
    "# check dimensions\n",
    "flags.shape"
   ]
  },
  {
   "cell_type": "code",
   "execution_count": 35,
   "id": "144726d5-d986-4b89-8f7f-48c996632e7c",
   "metadata": {
    "execution": {
     "iopub.execute_input": "2022-04-18T13:32:10.799435Z",
     "iopub.status.busy": "2022-04-18T13:32:10.799116Z",
     "iopub.status.idle": "2022-04-18T13:32:10.808121Z",
     "shell.execute_reply": "2022-04-18T13:32:10.807232Z",
     "shell.execute_reply.started": "2022-04-18T13:32:10.799406Z"
    }
   },
   "outputs": [
    {
     "data": {
      "text/plain": [
       "Name          0\n",
       "Landmass      0\n",
       "Zone          0\n",
       "Area          0\n",
       "Population    0\n",
       "Language      0\n",
       "Religion      0\n",
       "Bars          0\n",
       "Stripes       0\n",
       "Colors        0\n",
       "Red           0\n",
       "Green         0\n",
       "Blue          0\n",
       "Gold          0\n",
       "White         0\n",
       "Black         0\n",
       "Orange        0\n",
       "Mainhue       0\n",
       "Circles       0\n",
       "Crosses       0\n",
       "Saltires      0\n",
       "Quarters      0\n",
       "Sunstars      0\n",
       "Crescent      0\n",
       "Triangle      0\n",
       "Icon          0\n",
       "Animate       0\n",
       "Text          0\n",
       "Topleft       0\n",
       "Botright      0\n",
       "dtype: int64"
      ]
     },
     "execution_count": 35,
     "metadata": {},
     "output_type": "execute_result"
    }
   ],
   "source": [
    "# check for null\n",
    "flags.isna().sum()"
   ]
  },
  {
   "cell_type": "markdown",
   "id": "9680e485-e979-4032-af7b-599ab4dbe38e",
   "metadata": {},
   "source": [
    "## Creating data and labels\n",
    "\n",
    "Project outline:\n",
    "1. Going to create decision tree to classify the Landmass a country is on\n",
    "2. Use colours as training data"
   ]
  },
  {
   "cell_type": "code",
   "execution_count": 24,
   "id": "ccc54864-604b-4797-a832-44cb7ecd7ce8",
   "metadata": {
    "execution": {
     "iopub.execute_input": "2022-04-18T13:25:56.073370Z",
     "iopub.status.busy": "2022-04-18T13:25:56.073046Z",
     "iopub.status.idle": "2022-04-18T13:25:56.077563Z",
     "shell.execute_reply": "2022-04-18T13:25:56.076563Z",
     "shell.execute_reply.started": "2022-04-18T13:25:56.073328Z"
    }
   },
   "outputs": [],
   "source": [
    "# create var named labels equal to 'Landmass' column from flags\n",
    "labels = flags.Landmass"
   ]
  },
  {
   "cell_type": "code",
   "execution_count": 27,
   "id": "6dde4cb6-9b57-4e0a-a3e8-5f62fcec6817",
   "metadata": {
    "execution": {
     "iopub.execute_input": "2022-04-18T13:27:46.622303Z",
     "iopub.status.busy": "2022-04-18T13:27:46.621956Z",
     "iopub.status.idle": "2022-04-18T13:27:46.628779Z",
     "shell.execute_reply": "2022-04-18T13:27:46.627324Z",
     "shell.execute_reply.started": "2022-04-18T13:27:46.622254Z"
    },
    "tags": []
   },
   "outputs": [],
   "source": [
    "# use colours as training data\n",
    "data = flags[['Red', 'Green', 'Blue', 'Gold', 'White', 'Black', 'Orange']]"
   ]
  },
  {
   "cell_type": "code",
   "execution_count": 29,
   "id": "534d5435-98e2-41e6-b520-b87a87eb121f",
   "metadata": {
    "execution": {
     "iopub.execute_input": "2022-04-18T13:28:12.964344Z",
     "iopub.status.busy": "2022-04-18T13:28:12.964075Z",
     "iopub.status.idle": "2022-04-18T13:28:12.972002Z",
     "shell.execute_reply": "2022-04-18T13:28:12.970816Z",
     "shell.execute_reply.started": "2022-04-18T13:28:12.964320Z"
    }
   },
   "outputs": [
    {
     "name": "stdout",
     "output_type": "stream",
     "text": [
      "0    5\n",
      "1    3\n",
      "2    4\n",
      "3    6\n",
      "4    3\n",
      "Name: Landmass, dtype: int64\n",
      "   Red  Green  Blue  Gold  White  Black  Orange\n",
      "0    1      1     0     1      1      1       0\n",
      "1    1      0     0     1      0      1       0\n",
      "2    1      1     0     0      1      0       0\n",
      "3    1      0     1     1      1      0       1\n",
      "4    1      0     1     1      0      0       0\n"
     ]
    }
   ],
   "source": [
    "# check\n",
    "print(labels.head(5))\n",
    "print(data.head(5))"
   ]
  },
  {
   "cell_type": "code",
   "execution_count": 31,
   "id": "84514f94-09b4-4c2e-9c59-6cefde44da6f",
   "metadata": {
    "execution": {
     "iopub.execute_input": "2022-04-18T13:29:28.097393Z",
     "iopub.status.busy": "2022-04-18T13:29:28.096963Z",
     "iopub.status.idle": "2022-04-18T13:29:28.105233Z",
     "shell.execute_reply": "2022-04-18T13:29:28.104363Z",
     "shell.execute_reply.started": "2022-04-18T13:29:28.097351Z"
    },
    "tags": []
   },
   "outputs": [],
   "source": [
    "# split into train and test sets\n",
    "train_data, test_data, train_labels, test_labels = train_test_split(data, labels, test_size = 0.25, random_state = 1)"
   ]
  },
  {
   "cell_type": "markdown",
   "id": "765c3c89-3fe3-4e3d-a415-8a32ca9d7576",
   "metadata": {},
   "source": [
    "### Make and test the model"
   ]
  },
  {
   "cell_type": "code",
   "execution_count": 34,
   "id": "b9f4ad03-8f15-480f-8cfd-04f3e1d7c74b",
   "metadata": {
    "execution": {
     "iopub.execute_input": "2022-04-18T13:31:16.800955Z",
     "iopub.status.busy": "2022-04-18T13:31:16.800649Z",
     "iopub.status.idle": "2022-04-18T13:31:16.810151Z",
     "shell.execute_reply": "2022-04-18T13:31:16.809441Z",
     "shell.execute_reply.started": "2022-04-18T13:31:16.800917Z"
    },
    "tags": []
   },
   "outputs": [
    {
     "name": "stdout",
     "output_type": "stream",
     "text": [
      "Accuracy on test data: 0.347\n"
     ]
    }
   ],
   "source": [
    "tree = DecisionTreeClassifier(random_state=1)\n",
    "tree.fit(train_data, train_labels)\n",
    "print(\"Accuracy on test data: {:.3f}\".format(tree.score(test_data, test_labels)))"
   ]
  },
  {
   "cell_type": "markdown",
   "id": "46c5dbf4-ccc5-459c-a78e-e3d5c46e3cf6",
   "metadata": {},
   "source": [
    "### Tuning the Model"
   ]
  },
  {
   "cell_type": "code",
   "execution_count": 68,
   "id": "a6088de7-d80f-4d12-b757-6ad13af7c3bf",
   "metadata": {
    "execution": {
     "iopub.execute_input": "2022-04-18T13:43:32.919779Z",
     "iopub.status.busy": "2022-04-18T13:43:32.919483Z",
     "iopub.status.idle": "2022-04-18T13:43:32.997777Z",
     "shell.execute_reply": "2022-04-18T13:43:32.996967Z",
     "shell.execute_reply.started": "2022-04-18T13:43:32.919753Z"
    },
    "tags": []
   },
   "outputs": [],
   "source": [
    "scores = []\n",
    "\n",
    "for i in range(1,21):\n",
    "    clf = DecisionTreeClassifier(max_depth=i)\n",
    "    clf.fit(train_data, train_labels)\n",
    "    accuracy = clf.score(test_data, test_labels)\n",
    "    scores.append([i, accuracy])"
   ]
  },
  {
   "cell_type": "code",
   "execution_count": 69,
   "id": "50833dd7-0d6f-42dd-9a2c-d11506ed73f0",
   "metadata": {
    "execution": {
     "iopub.execute_input": "2022-04-18T13:43:33.644991Z",
     "iopub.status.busy": "2022-04-18T13:43:33.644349Z",
     "iopub.status.idle": "2022-04-18T13:43:33.650747Z",
     "shell.execute_reply": "2022-04-18T13:43:33.650046Z",
     "shell.execute_reply.started": "2022-04-18T13:43:33.644962Z"
    },
    "tags": []
   },
   "outputs": [
    {
     "data": {
      "text/plain": [
       "[20, 0.3469387755102041]"
      ]
     },
     "execution_count": 69,
     "metadata": {},
     "output_type": "execute_result"
    }
   ],
   "source": [
    "max(sorted(scores, key= lambda x: x[1], reverse=True))"
   ]
  },
  {
   "cell_type": "code",
   "execution_count": 71,
   "id": "006f194c-8637-43a5-872c-27163cea8c99",
   "metadata": {
    "execution": {
     "iopub.execute_input": "2022-04-18T13:43:43.324695Z",
     "iopub.status.busy": "2022-04-18T13:43:43.324387Z",
     "iopub.status.idle": "2022-04-18T13:43:43.458342Z",
     "shell.execute_reply": "2022-04-18T13:43:43.457683Z",
     "shell.execute_reply.started": "2022-04-18T13:43:43.324659Z"
    },
    "tags": []
   },
   "outputs": [
    {
     "data": {
      "image/png": "[encoded data removed]",
      "text/plain": [
       "<Figure size 432x288 with 1 Axes>"
      ]
     },
     "metadata": {
      "needs_background": "light"
     },
     "output_type": "display_data"
    }
   ],
   "source": [
    "# graph scores\n",
    "\n",
    "# extract depths\n",
    "depths = [x[0] for x in scores]\n",
    "\n",
    "# extract scores\n",
    "scores_only = [x[1] for x in scores]\n",
    "\n",
    "plt.plot(depths, scores_only)\n",
    "plt.show()"
   ]
  },
  {
   "cell_type": "markdown",
   "id": "97553e9d-a47f-4f1d-857d-75ed63f0d865",
   "metadata": {
    "execution": {
     "iopub.execute_input": "2022-04-18T13:42:10.304206Z",
     "iopub.status.busy": "2022-04-18T13:42:10.303933Z",
     "iopub.status.idle": "2022-04-18T13:42:10.310037Z",
     "shell.execute_reply": "2022-04-18T13:42:10.309241Z",
     "shell.execute_reply.started": "2022-04-18T13:42:10.304180Z"
    },
    "tags": []
   },
   "source": [
    "### NEWSFLASH\n",
    "Terrible score and lack of impact from changing depth shows features predictive. Try using all features."
   ]
  },
  {
   "cell_type": "code",
   "execution_count": 72,
   "id": "40a4a558-e415-4970-9b7e-0a7d8d37d16a",
   "metadata": {
    "execution": {
     "iopub.execute_input": "2022-04-18T13:45:02.215404Z",
     "iopub.status.busy": "2022-04-18T13:45:02.215123Z",
     "iopub.status.idle": "2022-04-18T13:45:02.220320Z",
     "shell.execute_reply": "2022-04-18T13:45:02.219558Z",
     "shell.execute_reply.started": "2022-04-18T13:45:02.215379Z"
    }
   },
   "outputs": [],
   "source": [
    "data = flags[[\"Red\", \"Green\", \"Blue\", \"Gold\",\n",
    " \"White\", \"Black\", \"Orange\",\n",
    " \"Circles\",\n",
    "\"Crosses\",\"Saltires\",\"Quarters\",\"Sunstars\",\n",
    "\"Crescent\",\"Triangle\"]]"
   ]
  },
  {
   "cell_type": "code",
   "execution_count": 73,
   "id": "2bd84277-543d-4d36-b95b-9f308decb995",
   "metadata": {
    "execution": {
     "iopub.execute_input": "2022-04-18T13:45:10.896045Z",
     "iopub.status.busy": "2022-04-18T13:45:10.895738Z",
     "iopub.status.idle": "2022-04-18T13:45:10.901975Z",
     "shell.execute_reply": "2022-04-18T13:45:10.901041Z",
     "shell.execute_reply.started": "2022-04-18T13:45:10.896015Z"
    }
   },
   "outputs": [],
   "source": [
    "# split into train and test sets\n",
    "train_data, test_data, train_labels, test_labels = train_test_split(data, labels, test_size = 0.25, random_state = 1)"
   ]
  },
  {
   "cell_type": "code",
   "execution_count": 75,
   "id": "50e7e0e5-94bc-4dcf-9dff-95f70464f305",
   "metadata": {
    "execution": {
     "iopub.execute_input": "2022-04-18T13:49:49.388292Z",
     "iopub.status.busy": "2022-04-18T13:49:49.387665Z",
     "iopub.status.idle": "2022-04-18T13:49:49.589747Z",
     "shell.execute_reply": "2022-04-18T13:49:49.588901Z",
     "shell.execute_reply.started": "2022-04-18T13:49:49.388264Z"
    },
    "tags": []
   },
   "outputs": [
    {
     "data": {
      "image/png": "[encoded data removed]",
      "text/plain": [
       "<Figure size 432x288 with 1 Axes>"
      ]
     },
     "metadata": {
      "needs_background": "light"
     },
     "output_type": "display_data"
    }
   ],
   "source": [
    "# train model with i = 1-20\n",
    "\n",
    "scores = []\n",
    "\n",
    "for i in range(1,21):\n",
    "    clf = DecisionTreeClassifier(max_depth=i)\n",
    "    clf.fit(train_data, train_labels)\n",
    "    accuracy = clf.score(test_data, test_labels)\n",
    "    scores.append([i, accuracy])\n",
    "\n",
    "# plot\n",
    "# graph scores\n",
    "\n",
    "# extract depths\n",
    "depths = [x[0] for x in scores]\n",
    "\n",
    "# extract scores\n",
    "scores_only = [x[1] for x in scores]\n",
    "\n",
    "plt.plot(depths, scores_only)\n",
    "plt.xlabel('Max depth')\n",
    "plt.ylabel('Accuracy on test data')\n",
    "plt.show()"
   ]
  },
  {
   "cell_type": "markdown",
   "id": "df1c6723-8f3f-4cfc-b063-40dd982e3c9c",
   "metadata": {},
   "source": [
    "## Summary\n",
    "\n",
    "Nice work! That graph looks more like what we’d expect. If the tree is too short, we’re underfitting and not accurately representing the training data. If the tree is too big, we’re getting too specific and relying too heavily on the training data.\n",
    "\n",
    "There are a few different ways to extend this project:\n",
    "\n",
    "1. Try to classify something else! Rather than predicting the \"Landmass\" feature, could predict something like the \"Language\"?\n",
    "2. Find a subset of features that work better than what we’re currently using. An important note is that a feature that has categorical data won’t work very well as a feature. For example, we don’t want a decision node to split nodes based on whether the value for \"Language\" is above or below 5.\n",
    "3. Tune more parameters of the model. You can find a description of all the parameters you can tune in the [Decision Tree Classifier documentation](https://scikit-learn.org/stable/modules/generated/sklearn.tree.DecisionTreeClassifier.html#sklearn.tree.DecisionTreeClassifier). For example, see what happens if you tune max_leaf_nodes. Think about whether you would be overfitting or underfitting the data based on how many leaf nodes you allow."
   ]
  },
  {
   "cell_type": "code",
   "execution_count": 230,
   "id": "3cb614eb-5f36-444b-92c7-3ea3abe89015",
   "metadata": {
    "execution": {
     "iopub.execute_input": "2022-04-19T15:57:17.303081Z",
     "iopub.status.busy": "2022-04-19T15:57:17.302783Z",
     "iopub.status.idle": "2022-04-19T15:57:17.312589Z",
     "shell.execute_reply": "2022-04-19T15:57:17.311912Z",
     "shell.execute_reply.started": "2022-04-19T15:57:17.303057Z"
    },
    "tags": []
   },
   "outputs": [],
   "source": [
    "# convert to function:\n",
    "\n",
    "def train_trees(data, labels, depth):\n",
    "    # split into train and test sets, random state for reproducibility\n",
    "    train_data, test_data, train_labels, test_labels = train_test_split(data, labels, test_size = 0.25, random_state = 1)\n",
    "    \n",
    "    # train model with i branches\n",
    "\n",
    "    scores = []\n",
    "    topscores = []\n",
    "    \n",
    "    for i in range(1,depth+1):\n",
    "        clf = DecisionTreeClassifier(max_depth=i)\n",
    "        clf.fit(train_data, train_labels)\n",
    "        accuracy = clf.score(test_data, test_labels)\n",
    "        scores.append([i, accuracy])\n",
    "\n",
    "        \n",
    "    # graph scores\n",
    "\n",
    "    # extract depths\n",
    "    depths = [x[0] for x in scores]\n",
    "\n",
    "    # extract scores\n",
    "    scores_only = [x[1] for x in scores]\n",
    "    \n",
    "    # make list of top scores\n",
    "    for i, j in enumerate(scores_only):\n",
    "        if j == max(scores_only):\n",
    "            topscores.append([depths[i], j])\n",
    "    \n",
    "    # define plot\n",
    "        \n",
    "    plt.plot(depths, scores_only)\n",
    "    plt.xlabel('Depth')\n",
    "    plt.xticks(range(2, depth+1, 2))\n",
    "    plt.ylabel('Accuracy on test data')\n",
    "    \n",
    "    ymax = max(scores_only)\n",
    "    xmax = depths[scores_only.index(ymax)]\n",
    "    text= \"Best accuracy={:.3f} at depth={:d}, \".format(ymax, xmax)\n",
    "    bbox_props = dict(boxstyle=\"square,pad=0.3\", fc=\"w\", ec=\"k\", lw=0.72)\n",
    "    arrowprops=dict(arrowstyle=\"->\",connectionstyle=\"angle,angleA=0,angleB=60\")\n",
    "    kw = dict(xycoords='data',textcoords=\"axes fraction\",\n",
    "              arrowprops=arrowprops, bbox=bbox_props, ha=\"right\", va=\"top\")\n",
    "    plt.annotate(text, xy=(xmax, ymax), xytext=(0.94,0.96), **kw)\n",
    "\n",
    "    # output\n",
    "    print(topscores)\n",
    "    plt.show()\n"
   ]
  },
  {
   "cell_type": "code",
   "execution_count": 233,
   "id": "a2de2a4f-fdef-4dfa-8e95-1a50868fe6b0",
   "metadata": {
    "execution": {
     "iopub.execute_input": "2022-04-19T15:58:25.697428Z",
     "iopub.status.busy": "2022-04-19T15:58:25.697001Z",
     "iopub.status.idle": "2022-04-19T15:58:25.961894Z",
     "shell.execute_reply": "2022-04-19T15:58:25.961078Z",
     "shell.execute_reply.started": "2022-04-19T15:58:25.697398Z"
    },
    "tags": []
   },
   "outputs": [
    {
     "name": "stdout",
     "output_type": "stream",
     "text": [
      "[[4, 0.5510204081632653], [5, 0.5510204081632653]]\n"
     ]
    },
    {
     "data": {
      "image/png": "[encoded data removed]",
      "text/plain": [
       "<Figure size 432x288 with 1 Axes>"
      ]
     },
     "metadata": {
      "needs_background": "light"
     },
     "output_type": "display_data"
    }
   ],
   "source": [
    "train_trees(data, labels, 20)"
   ]
  },
  {
   "cell_type": "markdown",
   "id": "e4635b8f-6a2f-4a35-b60c-9986c30fbe73",
   "metadata": {},
   "source": [
    "## Random forest\n",
    "\n",
    "Added some Random Forest Classifiers - interesting the max score (0.551) is the same for Decision Tree and Random Forest Classifiers. Given Random Forests are an ensemble of Decision Trees implemented to reduce overfitting, maybe not a surprise this hasn't improved. "
   ]
  },
  {
   "cell_type": "code",
   "execution_count": 218,
   "id": "a0876aa7-4bb8-4a91-b510-f504f9a88539",
   "metadata": {
    "execution": {
     "iopub.execute_input": "2022-04-19T15:48:56.502197Z",
     "iopub.status.busy": "2022-04-19T15:48:56.501721Z",
     "iopub.status.idle": "2022-04-19T15:48:56.537621Z",
     "shell.execute_reply": "2022-04-19T15:48:56.536993Z",
     "shell.execute_reply.started": "2022-04-19T15:48:56.502169Z"
    }
   },
   "outputs": [],
   "source": [
    "from sklearn.ensemble import RandomForestClassifier"
   ]
  },
  {
   "cell_type": "code",
   "execution_count": 221,
   "id": "5a23674a-00d4-4ba7-a5a6-60a6024a68bc",
   "metadata": {
    "execution": {
     "iopub.execute_input": "2022-04-19T15:49:53.540511Z",
     "iopub.status.busy": "2022-04-19T15:49:53.540087Z",
     "iopub.status.idle": "2022-04-19T15:49:56.548529Z",
     "shell.execute_reply": "2022-04-19T15:49:56.547742Z",
     "shell.execute_reply.started": "2022-04-19T15:49:53.540483Z"
    },
    "tags": []
   },
   "outputs": [
    {
     "data": {
      "text/plain": [
       "0.4897959183673469"
      ]
     },
     "execution_count": 221,
     "metadata": {},
     "output_type": "execute_result"
    }
   ],
   "source": [
    "classifier = RandomForestClassifier(n_estimators = 2000, random_state = 26)\n",
    "classifier.fit(train_data, train_labels)\n",
    "classifier.score(test_data, test_labels)"
   ]
  },
  {
   "cell_type": "code",
   "execution_count": 268,
   "id": "368d10e2-c40b-4b0e-b533-c070fc701154",
   "metadata": {
    "execution": {
     "iopub.execute_input": "2022-04-19T16:12:47.793371Z",
     "iopub.status.busy": "2022-04-19T16:12:47.793095Z",
     "iopub.status.idle": "2022-04-19T16:12:47.803947Z",
     "shell.execute_reply": "2022-04-19T16:12:47.803065Z",
     "shell.execute_reply.started": "2022-04-19T16:12:47.793344Z"
    },
    "tags": []
   },
   "outputs": [],
   "source": [
    "# convert to function:\n",
    "\n",
    "def train_forests(data, labels, est, step):\n",
    "    # split into train and test sets, random state for reproducibility\n",
    "    train_data, test_data, train_labels, test_labels = train_test_split(data, labels, test_size = 0.25, random_state = 1)\n",
    "    \n",
    "    # train model with i estimators\n",
    "\n",
    "    scores = []\n",
    "    topscores = []\n",
    "    \n",
    "    for i in range(100, est+step, step):\n",
    "        clf = RandomForestClassifier(max_depth=i)\n",
    "        clf.fit(train_data, train_labels)\n",
    "        accuracy = clf.score(test_data, test_labels)\n",
    "        scores.append([i, accuracy])\n",
    "\n",
    "        \n",
    "    # graph scores\n",
    "\n",
    "    # extract estimators\n",
    "    estimators = [x[0] for x in scores]\n",
    "\n",
    "    # extract scores\n",
    "    scores_only = [x[1] for x in scores]\n",
    "    \n",
    "    # make list of top scores\n",
    "    for i, j in enumerate(scores_only):\n",
    "        if j == max(scores_only):\n",
    "            topscores.append([estimators[i], j])\n",
    "    \n",
    "    # define plot\n",
    "    \n",
    "    plt.figure(figsize=(12, 6))\n",
    "    plt.plot(estimators, scores_only)\n",
    "    plt.xlabel('n estimators')\n",
    "    plt.xticks(range(step, est+step, step), rotation='vertical')\n",
    "    plt.ylabel('Accuracy on test data')\n",
    "    \n",
    "    ymax = max(scores_only)\n",
    "    xmax = estimators[scores_only.index(ymax)]\n",
    "    text= \"Best accuracy={:.3f} at depth={:d}, \".format(ymax, xmax)\n",
    "    bbox_props = dict(boxstyle=\"square,pad=0.3\", fc=\"w\", ec=\"k\", lw=0.72)\n",
    "    arrowprops=dict(arrowstyle=\"->\",connectionstyle=\"angle,angleA=0,angleB=60\")\n",
    "    kw = dict(xycoords='data',textcoords=\"axes fraction\",\n",
    "              arrowprops=arrowprops, bbox=bbox_props, ha=\"right\", va=\"top\")\n",
    "    plt.annotate(text, xy=(xmax, ymax), xytext=(0.94,0.96), **kw)\n",
    "\n",
    "    # output\n",
    "    print(topscores)\n",
    "    plt.show()\n"
   ]
  },
  {
   "cell_type": "code",
   "execution_count": 269,
   "id": "60005663-294e-44ec-9abf-630846493f75",
   "metadata": {
    "execution": {
     "iopub.execute_input": "2022-04-19T16:12:48.019493Z",
     "iopub.status.busy": "2022-04-19T16:12:48.019097Z",
     "iopub.status.idle": "2022-04-19T16:12:54.265501Z",
     "shell.execute_reply": "2022-04-19T16:12:54.264772Z",
     "shell.execute_reply.started": "2022-04-19T16:12:48.019442Z"
    },
    "tags": []
   },
   "outputs": [
    {
     "name": "stdout",
     "output_type": "stream",
     "text": [
      "[[750, 0.5510204081632653], [1100, 0.5510204081632653]]\n"
     ]
    },
    {
     "data": {
      "image/png": "[encoded data removed]",
      "text/plain": [
       "<Figure size 864x432 with 1 Axes>"
      ]
     },
     "metadata": {
      "needs_background": "light"
     },
     "output_type": "display_data"
    }
   ],
   "source": [
    "train_forests(data, labels, 2000, 50)"
   ]
  },
  {
   "cell_type": "code",
   "execution_count": 270,
   "id": "4f838ec9-a1ef-4247-8ac4-774db17200b9",
   "metadata": {
    "execution": {
     "iopub.execute_input": "2022-04-19T16:13:37.234280Z",
     "iopub.status.busy": "2022-04-19T16:13:37.233913Z",
     "iopub.status.idle": "2022-04-19T16:13:48.180364Z",
     "shell.execute_reply": "2022-04-19T16:13:48.179671Z",
     "shell.execute_reply.started": "2022-04-19T16:13:37.234254Z"
    }
   },
   "outputs": [
    {
     "name": "stdout",
     "output_type": "stream",
     "text": [
      "[[580, 0.5510204081632653], [660, 0.5510204081632653]]\n"
     ]
    },
    {
     "data": {
      "image/png": "[encoded data removed]",
      "text/plain": [
       "<Figure size 864x432 with 1 Axes>"
      ]
     },
     "metadata": {
      "needs_background": "light"
     },
     "output_type": "display_data"
    }
   ],
   "source": [
    "train_forests(data, labels, 800, 10)"
   ]
  },
  {
   "cell_type": "code",
   "execution_count": null,
   "id": "613e2ec5-1958-42ac-8bec-60f1d6bfe8f7",
   "metadata": {},
   "outputs": [],
   "source": []
  }
 ],
 "metadata": {
  "kernelspec": {
   "display_name": "Python 3 (ipykernel)",
   "language": "python",
   "name": "python3"
  },
  "language_info": {
   "codemirror_mode": {
    "name": "ipython",
    "version": 3
   },
   "file_extension": ".py",
   "mimetype": "text/x-python",
   "name": "python",
   "nbconvert_exporter": "python",
   "pygments_lexer": "ipython3",
   "version": "3.9.0"
  }
 },
 "nbformat": 4,
 "nbformat_minor": 5
}
